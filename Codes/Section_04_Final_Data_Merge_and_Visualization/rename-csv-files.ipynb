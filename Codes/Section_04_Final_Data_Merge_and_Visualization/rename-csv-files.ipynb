{
 "cells": [
  {
   "cell_type": "markdown",
   "metadata": {},
   "source": [
    "[project short name]-[data type lowercase]-[data type alpha numeric**]-[name 30 characters]\n",
    "\n",
    "- exclude all spaces\n",
    "\n",
    "- alpha numeric: hyphen instead of periods; exclude all other punctuation (brackets, colons, etc.)\n",
    "\n",
    "- FRENCH: exclude all accents\n",
    "\n",
    "File name example\n",
    "\n",
    "Figure 8B-1(c) Reasonably Foreseeable Developments in the Element-Specific Spatial Boundaries – East\n",
    "\n",
    "2017ngtl-figure-8B-1c-Reasonably-Foreseeable-Develop.csv"
   ]
  },
  {
   "cell_type": "code",
   "execution_count": null,
   "metadata": {},
   "outputs": [],
   "source": [
    "%%time\n",
    "\n",
    "# Loading index file of all tables\n",
    "df = pd.read_csv(ENG_index_filepath)\n",
    "\n",
    "# Remove all rows for figures so that we are only moving tables\n",
    "df = df[df['Content Type'] == 'Table']\n",
    "df = df.reset_index(drop=True)\n",
    "\n",
    "# Adding source and destination filepaths to the dataframe\n",
    "source_folder_path = 'F:/Environmental Baseline Data/Version 4 - Final/all_csvs_cleaned/'\n",
    "source_filenames = []\n",
    "dest_filenames = []\n",
    "for x in tqdm(range(0, len(df))):\n",
    "    source_file_name = source_folder_path + df['csv_url'].iloc[x][-3] + '_' + df['csv_url'].iloc[x][-2] + '_lattice-v_' + df['csv_url'].iloc[x][-1][0] + '.csv'\n",
    "    source_filenames.append(source_file_name)\n",
    "    dest_file_name = df['Download folder name'].iloc[x] + df['csv_url'].iloc[x][-3] + '_' + df['csv_url'].iloc[x][-2] + '_' + df['csv_url'].iloc[x][-1][0] + '.csv'\n",
    "    dest_filenames.append(dest_file_name)\n",
    "\n",
    "df['csv_path'] = pd.Series(source_filenames)\n",
    "df['Download folder name'] = pd.Series(dest_filenames)"
   ]
  }
 ],
 "metadata": {
  "kernelspec": {
   "display_name": "Python 3",
   "language": "python",
   "name": "python3"
  },
  "language_info": {
   "codemirror_mode": {
    "name": "ipython",
    "version": 3
   },
   "file_extension": ".py",
   "mimetype": "text/x-python",
   "name": "python",
   "nbconvert_exporter": "python",
   "pygments_lexer": "ipython3",
   "version": "3.8.5"
  }
 },
 "nbformat": 4,
 "nbformat_minor": 4
}
