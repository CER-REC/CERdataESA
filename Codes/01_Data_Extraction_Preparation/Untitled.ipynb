{
 "cells": [
  {
   "cell_type": "code",
   "execution_count": null,
   "metadata": {},
   "outputs": [],
   "source": [
    "out_path = 'F:/Environmental Baseline Data/Version 4 - Final/PDF_rotated/'\n",
    "pdf_in = open(full_path, 'rb')\n",
    "pdf_reader = PyPDF2.PdfFileReader(pdf_in, strict=False)\n",
    "pdf_writer = PyPDF2.PdfFileWriter()\n",
    "for pagenum in range(pdf_reader.numPages):\n",
    "        page = pdf_reader.getPage(pagenum)\n",
    "        page.rotateClockwise(90)\n",
    "        pdf_writer.addPage(page)\n",
    "pdf_out = open(out_path + full_path.split('/')[-1], 'wb')\n",
    "pdf_writer.write(pdf_out)\n",
    "pdf_out.close()\n",
    "pdf_in.close()\n"
   ]
  }
 ],
 "metadata": {
  "kernelspec": {
   "display_name": "Python 3",
   "language": "python",
   "name": "python3"
  },
  "language_info": {
   "codemirror_mode": {
    "name": "ipython",
    "version": 3
   },
   "file_extension": ".py",
   "mimetype": "text/x-python",
   "name": "python",
   "nbconvert_exporter": "python",
   "pygments_lexer": "ipython3",
   "version": "3.7.4"
  }
 },
 "nbformat": 4,
 "nbformat_minor": 2
}
