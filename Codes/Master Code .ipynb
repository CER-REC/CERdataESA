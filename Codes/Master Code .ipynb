{
 "cells": [
  {
   "cell_type": "markdown",
   "metadata": {},
   "source": [
    "# About the Environmental Social Assessment "
   ]
  },
  {
   "cell_type": "code",
   "execution_count": null,
   "metadata": {},
   "outputs": [],
   "source": [
    "Test!!!!!"
   ]
  },
  {
   "cell_type": "markdown",
   "metadata": {},
   "source": [
    "# About the Code "
   ]
  },
  {
   "cell_type": "markdown",
   "metadata": {},
   "source": [
    "Our assumption is that “Index 1- List of Major Projects with ESAs” and “Index 2- PDFs for Major Projects with ESA with manual Brooke’s tagging” is already created. When we go public, we will have to share the 2 Indices and the PDFs as the metadata. We will implement the other pieces of codes with functions. \n",
    "\n",
    "The list of the functions that I could think of is as follows: (feel free to add/edit them in the meeting) \n",
    "1.\tDownload PDF - Margaret <br>\n",
    "Input: Index 2 – PDFs for major project: List of the PDF downloadable links  <br>\n",
    "Output: PDF Files <br>\n",
    "<br>\n",
    "2.\tPDF to Tika Conversion – Sousan/Margaret <br>\n",
    "Input: PDF files <br>\n",
    "Output: Tika Files (XML), A text file with all the files which could not be converted <br>\n",
    "<br>\n",
    "3.\tIdentify the Table Titles  - Vibudh/Janna <br>\n",
    "Input: Tika files <br>\n",
    "Output: Support File – 1 with all the table titles, Error files <br>\n",
    "<br>\n",
    "4.\tExtracting the Tables - Sousan <br>\n",
    "Input: Support File – 1 with all the table titles <br>\n",
    "Output: CSV Files, Index 3- List of the CSV Files <br>\n",
    "<br>\n",
    "5.\tTable rotation – McKenzie Files <br>\n",
    "Input: PDF file list for McKenzie Project <br>\n",
    "Output:  More CSV Files, Update Index 3- List of the CSV Files <br>\n",
    "<br>\n",
    "6.\tCID correction <br>\n",
    "<br>\n",
    "7.\tCategorization of the PDFs – Vibudh  <br>\n",
    "Input: Index 2- PDFs for Major Projects with ESA with manual Brooke’s tagging <br>\n",
    "Output: Support File - 2: PDF file names with categories assigned <br>\n",
    "\n",
    "\n",
    "Things which we are currently working on but which will be implemented in the Phase 2 would be:\n",
    "-\tIndex 3 – List of at CSV Files with Categories \n",
    "-\tIndex 4 – List of Images with Categories\n",
    "-\tIndex 5 – GIS Locations extracted for PDF Files\n",
    "-\tIndex 6 – Alignment Sheets extracted with geotags\n"
   ]
  },
  {
   "cell_type": "markdown",
   "metadata": {},
   "source": [
    "# Installing the Required Packages "
   ]
  },
  {
   "cell_type": "code",
   "execution_count": null,
   "metadata": {},
   "outputs": [],
   "source": [
    "#importing standard packages\n",
    "\n",
    "import pandas as pd\n",
    "import time\n",
    "import os\n",
    "import sys\n",
    "import requests\n",
    "from bs4 import BeautifulSoup as bs\n",
    "import wget\n",
    "import re\n",
    "from urllib.parse import unquote\n",
    "import PyPDF2 as p2\n",
    "from IPython.core.interactiveshell import InteractiveShell\n",
    "InteractiveShell.ast_node_interactivity = \"all\""
   ]
  },
  {
   "cell_type": "code",
   "execution_count": null,
   "metadata": {},
   "outputs": [],
   "source": [
    "# importing custom functions \n",
    "import scraper\n",
    "import TableCategorization"
   ]
  },
  {
   "cell_type": "markdown",
   "metadata": {},
   "source": [
    "# 1. Exploring the Input Files (Index 1 and Index 2)"
   ]
  },
  {
   "cell_type": "code",
   "execution_count": null,
   "metadata": {},
   "outputs": [],
   "source": [
    "Index1_path = os.path.realpath('..') + \"\\\\Input Files\\\\Index 1 - List of Major Projects with ESAs.csv\"\n",
    "\n",
    "Index1 = pd.read_csv(Index1_path, index_col = 0)\n",
    "Index1.head()\n",
    "Index1.info()"
   ]
  },
  {
   "cell_type": "code",
   "execution_count": null,
   "metadata": {},
   "outputs": [],
   "source": [
    "Index2_path = os.path.realpath('..') + \"\\\\Input Files\\\\Index 2 - PDFs for Major Projects with ESAs.xlsx\"\n",
    "\n",
    "Index2 = pd.read_excel(Index2_path, sheet_name=\"Sheet1\")\n",
    "Index2.head()\n",
    "Index2.info()"
   ]
  },
  {
   "cell_type": "markdown",
   "metadata": {},
   "source": [
    "# 2. Scraping PDF Files"
   ]
  },
  {
   "cell_type": "code",
   "execution_count": null,
   "metadata": {},
   "outputs": [],
   "source": [
    "Index2 = Index2.head()\n",
    "len(Index2)"
   ]
  },
  {
   "cell_type": "code",
   "execution_count": null,
   "metadata": {},
   "outputs": [],
   "source": [
    "count = scraper.file_scraper(os.path.realpath('..') + '\\\\Data Files\\\\PDFs\\\\', Index2, 30)"
   ]
  },
  {
   "cell_type": "code",
   "execution_count": null,
   "metadata": {},
   "outputs": [],
   "source": [
    "print(\"{} Files were downloaded from {} URL links\".format(count, len(Index2)))"
   ]
  },
  {
   "cell_type": "markdown",
   "metadata": {},
   "source": [
    "# 3. Converting PDF files to Pickle  "
   ]
  },
  {
   "cell_type": "code",
   "execution_count": null,
   "metadata": {},
   "outputs": [],
   "source": [
    "#count = scraper.pdf2pkl(os.path.realpath('..') + '\\\\Data Files\\\\Pickle Files\\\\', Index2, 30)"
   ]
  },
  {
   "cell_type": "code",
   "execution_count": null,
   "metadata": {},
   "outputs": [],
   "source": []
  },
  {
   "cell_type": "markdown",
   "metadata": {},
   "source": [
    "# 4. Categorization of Table Titles "
   ]
  },
  {
   "cell_type": "code",
   "execution_count": null,
   "metadata": {},
   "outputs": [],
   "source": [
    "count = TableCategorization.table_categorization(os.path.realpath('..'), Index2, 30)\n",
    "count "
   ]
  },
  {
   "cell_type": "markdown",
   "metadata": {},
   "source": [
    "# 5. Table extraction "
   ]
  },
  {
   "cell_type": "code",
   "execution_count": null,
   "metadata": {},
   "outputs": [],
   "source": [
    "#main"
   ]
  },
  {
   "cell_type": "code",
   "execution_count": null,
   "metadata": {},
   "outputs": [],
   "source": []
  },
  {
   "cell_type": "code",
   "execution_count": null,
   "metadata": {},
   "outputs": [],
   "source": []
  }
 ],
 "metadata": {
  "kernelspec": {
   "display_name": "Python 3",
   "language": "python",
   "name": "python3"
  },
  "language_info": {
   "codemirror_mode": {
    "name": "ipython",
    "version": 3
   },
   "file_extension": ".py",
   "mimetype": "text/x-python",
   "name": "python",
   "nbconvert_exporter": "python",
   "pygments_lexer": "ipython3",
   "version": "3.7.4"
  }
 },
 "nbformat": 4,
 "nbformat_minor": 2
}