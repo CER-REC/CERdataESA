{
 "cells": [
  {
   "cell_type": "code",
   "execution_count": 1,
   "metadata": {},
   "outputs": [],
   "source": [
    "import pandas as pd\n",
    "import numpy as np\n",
    "import time\n",
    "import datetime\n",
    "import os\n",
    "import requests\n",
    "from bs4 import BeautifulSoup as bs\n",
    "import re\n",
    "from urllib.parse import unquote\n",
    "# import PyPDF2 as p2\n",
    "from IPython.core.interactiveshell import InteractiveShell\n",
    "InteractiveShell.ast_node_interactivity = \"all\""
   ]
  },
  {
   "cell_type": "markdown",
   "metadata": {},
   "source": [
    "### read csv master file with Project Name and link to ESA folder(s) that contain the ESA files\n",
    "### 85 rows, because some projects have multiple folder (which contain the ESA documents)  "
   ]
  },
  {
   "cell_type": "code",
   "execution_count": 2,
   "metadata": {
    "scrolled": false
   },
   "outputs": [
    {
     "name": "stdout",
     "output_type": "stream",
     "text": [
      "shape of csv: (88, 7)\n",
      "numer of unique project: 38\n"
     ]
    }
   ],
   "source": [
    "path_to_master_file = 'F:/Environmental Baseline Data/Version 4 - Final/Support files/list_of_Section_52_projects.csv'\n",
    "master = pd.read_csv(path_to_master_file, encoding='ISO-8859-1')\n",
    "master['folder_link'] = master['link to folder with ESA'].str.replace('/View/', '/LoadResult/')\n",
    "print('shape of csv:', master.shape)\n",
    "print('numer of unique project:', master['Application title'].nunique())\n",
    "# master.head()\n",
    "# master['Application title'].unique()"
   ]
  },
  {
   "cell_type": "markdown",
   "metadata": {},
   "source": [
    "### get all RegDocs files"
   ]
  },
  {
   "cell_type": "code",
   "execution_count": 3,
   "metadata": {},
   "outputs": [],
   "source": [
    "# %%time Wall time: 32.9 s\n",
    "\n",
    "all_esa = []\n",
    "list_applications = master['Application title'].tolist()\n",
    "list_downloads = master['folder_link'] \n",
    "\n",
    "for a, b in zip(list_downloads, list_applications):\n",
    "    cookies = {'RDI-NumberOfRecords': '200'}\n",
    "    r = requests.get(a, cookies = cookies)\n",
    "    soup = bs(r.text, 'lxml')\n",
    "    tds = soup.find_all('td', {'class' : 'nopadding break-anywhere'})\n",
    "    file_name = [x.text for x in soup.find_all('a', {'class' : 'row-icon'})]\n",
    "    hrefs = [a['href'] for a in soup.find_all('a', {'class' : 'row-icon'})]\n",
    "    df = pd.DataFrame({'file_name' : file_name, 'hrefs' : hrefs, 'application_name' : b, 'esa_folder_link' : a})\n",
    "    all_esa.append(df)"
   ]
  },
  {
   "cell_type": "code",
   "execution_count": 4,
   "metadata": {
    "scrolled": false
   },
   "outputs": [
    {
     "data": {
      "text/html": [
       "<div>\n",
       "<style scoped>\n",
       "    .dataframe tbody tr th:only-of-type {\n",
       "        vertical-align: middle;\n",
       "    }\n",
       "\n",
       "    .dataframe tbody tr th {\n",
       "        vertical-align: top;\n",
       "    }\n",
       "\n",
       "    .dataframe thead th {\n",
       "        text-align: right;\n",
       "    }\n",
       "</style>\n",
       "<table border=\"1\" class=\"dataframe\">\n",
       "  <thead>\n",
       "    <tr style=\"text-align: right;\">\n",
       "      <th></th>\n",
       "      <th>file_name</th>\n",
       "      <th>application_name</th>\n",
       "      <th>esa_folder_link</th>\n",
       "      <th>DocumentID</th>\n",
       "      <th>DataID</th>\n",
       "      <th>esa_download_link</th>\n",
       "      <th>DataID_pdf</th>\n",
       "    </tr>\n",
       "  </thead>\n",
       "  <tbody>\n",
       "    <tr>\n",
       "      <th>5</th>\n",
       "      <td>A0H8C0 - 13.0 EIA - Section 13.1 to 13.6</td>\n",
       "      <td>2003-03-17 Application to Construct and Operat...</td>\n",
       "      <td>https://apps.cer-rec.gc.ca/REGDOCS/Item/LoadRe...</td>\n",
       "      <td>A0H8C0</td>\n",
       "      <td>268706</td>\n",
       "      <td>https://apps.cer-rec.gc.ca/REGDOCS/File/Downlo...</td>\n",
       "      <td>268706.pdf</td>\n",
       "    </tr>\n",
       "    <tr>\n",
       "      <th>6</th>\n",
       "      <td>A0H8C1 - 13.0 EIA - Section 13.7 Wildlife Part 1</td>\n",
       "      <td>2003-03-17 Application to Construct and Operat...</td>\n",
       "      <td>https://apps.cer-rec.gc.ca/REGDOCS/Item/LoadRe...</td>\n",
       "      <td>A0H8C1</td>\n",
       "      <td>268709</td>\n",
       "      <td>https://apps.cer-rec.gc.ca/REGDOCS/File/Downlo...</td>\n",
       "      <td>268709.pdf</td>\n",
       "    </tr>\n",
       "  </tbody>\n",
       "</table>\n",
       "</div>"
      ],
      "text/plain": [
       "                                          file_name  \\\n",
       "5         A0H8C0 - 13.0 EIA - Section 13.1 to 13.6    \n",
       "6  A0H8C1 - 13.0 EIA - Section 13.7 Wildlife Part 1   \n",
       "\n",
       "                                    application_name  \\\n",
       "5  2003-03-17 Application to Construct and Operat...   \n",
       "6  2003-03-17 Application to Construct and Operat...   \n",
       "\n",
       "                                     esa_folder_link DocumentID  DataID  \\\n",
       "5  https://apps.cer-rec.gc.ca/REGDOCS/Item/LoadRe...     A0H8C0  268706   \n",
       "6  https://apps.cer-rec.gc.ca/REGDOCS/Item/LoadRe...     A0H8C1  268709   \n",
       "\n",
       "                                   esa_download_link  DataID_pdf  \n",
       "5  https://apps.cer-rec.gc.ca/REGDOCS/File/Downlo...  268706.pdf  \n",
       "6  https://apps.cer-rec.gc.ca/REGDOCS/File/Downlo...  268709.pdf  "
      ]
     },
     "execution_count": 4,
     "metadata": {},
     "output_type": "execute_result"
    },
    {
     "data": {
      "text/plain": [
       "38"
      ]
     },
     "execution_count": 4,
     "metadata": {},
     "output_type": "execute_result"
    },
    {
     "data": {
      "text/plain": [
       "1994"
      ]
     },
     "execution_count": 4,
     "metadata": {},
     "output_type": "execute_result"
    },
    {
     "data": {
      "text/plain": [
       "(1994, 7)"
      ]
     },
     "execution_count": 4,
     "metadata": {},
     "output_type": "execute_result"
    }
   ],
   "source": [
    "# create download links by going to each folder and identify the ESA files (using regular expressions) \n",
    "df_esa = pd.concat(all_esa, axis = 0)\n",
    "regex_esa = 'COVER|NV|EPP|EIS|ESA|nvironment|Horn|Vantage|7212_App|ocio|EIA|App 13|V11|V14|V15|V16|V17|V18|V19|V20|V21|V22|V23|V24|V25|A1X1|A1C3|A3S1|A3S2|A0X|Goldboro'\n",
    "df_esa = df_esa[df_esa['file_name'].str.contains(regex_esa)]\n",
    "df_esa['DocumentID'] = df_esa['file_name'].str.extract('([a-zA-Z]\\d[a-zA-Z]\\d[a-zA-Z]\\d)')\n",
    "df_esa['DataID'] = df_esa['hrefs'].str.replace('/REGDOCS/File/Download/', '')\n",
    "df_esa['esa_download_link'] = df_esa['hrefs'].str.replace('/REGDOCS/', 'https://apps.cer-rec.gc.ca/REGDOCS/')\n",
    "df_esa = df_esa.drop('hrefs', axis = 1)\n",
    "df_esa['DataID_pdf'] = df_esa['DataID'] + '.pdf'\n",
    "\n",
    "# remove receipts\n",
    "df_esa = df_esa[~df_esa['file_name'].str.contains('eceipt')]\n",
    "df_esa.head(2)\n",
    "df_esa['application_name'].nunique()\n",
    "df_esa = df_esa.drop_duplicates()\n",
    "df_esa['DataID'].nunique()\n",
    "df_esa.shape\n",
    "# df_esa.to_csv('test.csv')"
   ]
  },
  {
   "cell_type": "code",
   "execution_count": 5,
   "metadata": {},
   "outputs": [],
   "source": [
    "#delete these files\n",
    "# B-1S  - Section 12 - Environmental and Socio-Economic Matters  - A2F4K6\n",
    "# B-1T - Horn_River_Komie_North_Overview_Map_2011-09-29  - A2F4K7 \n",
    "# B-1-g -- A0U3G2 - Environmental and Socio-Economic Assessment - Volume 2 of 2 (Paper Only)\n",
    "# B1-15 - 12.0 Environmental and Socio-Economic - A2A6Q1\n",
    "\n"
   ]
  },
  {
   "cell_type": "code",
   "execution_count": 6,
   "metadata": {
    "scrolled": false
   },
   "outputs": [],
   "source": [
    "# %%time\n",
    "# # downloads all files\n",
    "# # ****************************************************************** 1 hour execution \n",
    "\n",
    "# download_link = df_esa['esa_download_link'].tolist()\n",
    "# DataID = df_esa['DataID'].tolist()\n",
    "# save_folder = 'F:/Environmental Baseline Data/Version 4 - Final/PDF/'\n",
    "\n",
    "# for x, y in zip(download_link, DataID):\n",
    "#     try:\n",
    "#         download_url = 'http://docs2.cer-rec.gc.ca/ll-eng/llisapi.dll?func=ll&objId=' + y + '&objaction=download&viewType=1'\n",
    "#         r = requests.get(download_url)\n",
    "#         full_name = os.path.join(save_folder, (y +'.pdf')) \n",
    "#         with open(full_name, 'wb') as file:\n",
    "#             file.write(r.content) \n",
    "#     except:\n",
    "#         print(x, y)\n"
   ]
  },
  {
   "cell_type": "code",
   "execution_count": 7,
   "metadata": {},
   "outputs": [],
   "source": [
    "# download all files per hearing\n",
    "# *******************************************************************\n",
    "# per_project = df_esa[df_esa['application_name'] == '2010-02-19 - Application for the Horn River Project (GH-2-2010)']\n",
    "\n",
    "# download_link = per_project['esa_download_link'].tolist()\n",
    "# DataID = per_project['DataID'].tolist()\n",
    "# save_folder = 'F:/Environmental Baseline Data/Version 4 - Final/PDF/'\n",
    "# len(download_link)\n",
    "# len(DataID)\n",
    "\n",
    "# for x, y in zip(download_link, DataID):\n",
    "#     download_url = 'http://docs2.cer-rec.gc.ca/ll-eng/llisapi.dll?func=ll&objId=' + y + '&objaction=download&viewType=1'\n",
    "#     r = requests.get(download_url)\n",
    "#     full_name = os.path.join(save_folder, (y +'.pdf')) \n",
    "#     with open(full_name, 'wb') as file:\n",
    "#         file.write(r.content) "
   ]
  },
  {
   "cell_type": "markdown",
   "metadata": {},
   "source": [
    "## load GIS info and merge"
   ]
  },
  {
   "cell_type": "code",
   "execution_count": 8,
   "metadata": {
    "scrolled": false
   },
   "outputs": [
    {
     "data": {
      "text/plain": [
       "38"
      ]
     },
     "execution_count": 8,
     "metadata": {},
     "output_type": "execute_result"
    },
    {
     "data": {
      "text/plain": [
       "(38, 17)"
      ]
     },
     "execution_count": 8,
     "metadata": {},
     "output_type": "execute_result"
    },
    {
     "data": {
      "text/plain": [
       "(1994, 22)"
      ]
     },
     "execution_count": 8,
     "metadata": {},
     "output_type": "execute_result"
    },
    {
     "data": {
      "text/plain": [
       "38"
      ]
     },
     "execution_count": 8,
     "metadata": {},
     "output_type": "execute_result"
    }
   ],
   "source": [
    "gis_df = pd.read_excel('F:/Environmental Baseline Data/Version 4 - Final/Indices/Index 1 - List of Major Projects with ESAs.xlsx')\n",
    "gis_df['Application title short'].nunique()\n",
    "gis_df.shape\n",
    "df_esa_with_gis = df_esa.merge(gis_df, on = 'application_name', how = 'left')\n",
    "df_esa_with_gis = df_esa_with_gis.drop(columns = 'Location')\n",
    "df_esa_with_gis.shape\n",
    "df_esa_with_gis['Application title short'].nunique()"
   ]
  },
  {
   "cell_type": "markdown",
   "metadata": {},
   "source": [
    "## load component info and merge"
   ]
  },
  {
   "cell_type": "code",
   "execution_count": 9,
   "metadata": {},
   "outputs": [
    {
     "data": {
      "text/plain": [
       "38"
      ]
     },
     "execution_count": 9,
     "metadata": {},
     "output_type": "execute_result"
    }
   ],
   "source": [
    "esa_component_path = 'F:/Environmental Baseline Data/Version 4 - Final/Support files/Appendices mapped with files per Project.xlsx'\n",
    "esa_component_names = pd.read_excel(esa_component_path, sheet_name = 'new')\n",
    "esa_component_names['Application title short'].nunique()"
   ]
  },
  {
   "cell_type": "code",
   "execution_count": 10,
   "metadata": {},
   "outputs": [
    {
     "data": {
      "text/plain": [
       "(1994, 25)"
      ]
     },
     "execution_count": 10,
     "metadata": {},
     "output_type": "execute_result"
    },
    {
     "data": {
      "text/plain": [
       "38"
      ]
     },
     "execution_count": 10,
     "metadata": {},
     "output_type": "execute_result"
    }
   ],
   "source": [
    "#load component and merge \n",
    "df_esa_with_gis_components = df_esa_with_gis.merge(esa_component_names, on = 'file_name', how = 'left')\n",
    "df_esa_with_gis_components = df_esa_with_gis_components.drop('Application title short_y', axis = 1)\n",
    "df_esa_with_gis_components = df_esa_with_gis_components.rename(columns = {'Application title short_x' : 'Application title short'})\n",
    " \n",
    "df_esa_with_gis_components.shape\n",
    "df_esa_with_gis_components['application_name'].nunique()"
   ]
  },
  {
   "cell_type": "markdown",
   "metadata": {},
   "source": [
    "## load short_names and merge with regdocs metadata"
   ]
  },
  {
   "cell_type": "code",
   "execution_count": 11,
   "metadata": {
    "scrolled": false
   },
   "outputs": [
    {
     "data": {
      "text/plain": [
       "38"
      ]
     },
     "execution_count": 11,
     "metadata": {},
     "output_type": "execute_result"
    },
    {
     "data": {
      "text/plain": [
       "(1994, 29)"
      ]
     },
     "execution_count": 11,
     "metadata": {},
     "output_type": "execute_result"
    }
   ],
   "source": [
    "short_names = pd.read_csv('F:/Environmental Baseline Data/Version 4 - Final/Support files/short_names_update.csv')\n",
    "short_names['application_name'].nunique()\n",
    "df_esa_with_gis_components_short_names = df_esa_with_gis_components.merge(short_names, on = 'application_name', how = 'left')\n",
    "df_esa_with_gis_components_short_names.shape\n",
    "# df_esa_with_gis_components_short_names['Application title short'].unique()\n",
    "df_esa_with_gis_components_short_names.to_csv('with_keystone.csv', encoding = 'utf_8_sig', index = False)\n",
    "# df_esa_with_gis_components_short_names.head()\n",
    "# df_esa_with_gis_components_short_names.tail()"
   ]
  },
  {
   "cell_type": "markdown",
   "metadata": {},
   "source": [
    "## load PDF Section Topics and merge with regdocs metadata"
   ]
  },
  {
   "cell_type": "code",
   "execution_count": 13,
   "metadata": {},
   "outputs": [
    {
     "data": {
      "text/plain": [
       "(1994, 30)"
      ]
     },
     "execution_count": 13,
     "metadata": {},
     "output_type": "execute_result"
    },
    {
     "data": {
      "text/plain": [
       "38"
      ]
     },
     "execution_count": 13,
     "metadata": {},
     "output_type": "execute_result"
    }
   ],
   "source": [
    "df_topics = pd.read_csv(\"F:\\Environmental Baseline Data\\Version 4 - Final\\Support files\\Table_Title_Topics_for_Brooke.csv\",\\\n",
    "                        usecols = ['file_name', 'topics'])\n",
    "df_topics['topics'] = df_topics['topics'].str.replace(\"\\[\\]\", 'Other, All')\n",
    "df_topics['topics'] = df_topics['topics'].str.replace(\"'\", '').str.replace('[', '').str.replace(']', ', All')\n",
    "df_topics['topics'] = df_topics['topics'].str.title()\n",
    "# df_topics['topics'].unique()\n",
    "# df_topics['topics'].nunique()\n",
    "# df_topics.columns\n",
    "# df_topics.head()\n",
    "\n",
    "df_esa_with_gis_components_short_names_topics = df_esa_with_gis_components_short_names.merge(df_topics, on = 'file_name', how = 'left') \n",
    "df_esa_with_gis_components_short_names_topics.shape\n",
    "df_esa_with_gis_components_short_names_topics['application_name'].nunique()\n"
   ]
  },
  {
   "cell_type": "markdown",
   "metadata": {},
   "source": [
    "## load PDF size, page count, outline and merge\n",
    "=REGDOCS metadata"
   ]
  },
  {
   "cell_type": "code",
   "execution_count": 14,
   "metadata": {},
   "outputs": [],
   "source": [
    "pdf_size_df = pd.read_csv('F:/Environmental Baseline Data/Version 4 - Final/PDF-size-numpages-outlineboolean/PDF-size-numpages-outlineboolean.csv')\n",
    "#May 4: file above needs to be updated\n",
    "\n",
    "pdf_size_df = pdf_size_df.drop('Unnamed: 0', axis = 1)\n",
    "pdf_size_df['file_name'] = pdf_size_df['file_name'].str.replace('F:/Environmental Baseline Data/Version 4 - Final/PDF/', '')\n",
    "pdf_size_df['file_name'] = pdf_size_df['file_name'].str.replace('.pdf', '')\n",
    "pdf_size_df = pdf_size_df.rename(columns = {'file_name' : 'DataID'})"
   ]
  },
  {
   "cell_type": "code",
   "execution_count": 15,
   "metadata": {
    "scrolled": false
   },
   "outputs": [
    {
     "data": {
      "text/plain": [
       "(1994, 33)"
      ]
     },
     "execution_count": 15,
     "metadata": {},
     "output_type": "execute_result"
    },
    {
     "data": {
      "text/plain": [
       "38"
      ]
     },
     "execution_count": 15,
     "metadata": {},
     "output_type": "execute_result"
    }
   ],
   "source": [
    "df_esa_with_gis_components_short_names_topics_page_count = df_esa_with_gis_components_short_names_topics.merge(pdf_size_df, on = 'DataID', how = 'left')\n",
    "df_esa_with_gis_components_short_names_topics_page_count.shape\n",
    "# df_esa_with_gis_components_short_names_topics_page_count.columns\n",
    "# df_esa_with_gis_components_short_names_topics_page_count.head(2)\n",
    "df_esa_with_gis_components_short_names_topics_page_count['Application title short'].nunique()"
   ]
  },
  {
   "cell_type": "markdown",
   "metadata": {},
   "source": [
    "## Load Tables data and merge with Regdocs"
   ]
  },
  {
   "cell_type": "code",
   "execution_count": 16,
   "metadata": {},
   "outputs": [
    {
     "data": {
      "text/plain": [
       "(44629, 8)"
      ]
     },
     "execution_count": 16,
     "metadata": {},
     "output_type": "execute_result"
    },
    {
     "data": {
      "text/plain": [
       "(28891, 8)"
      ]
     },
     "execution_count": 16,
     "metadata": {},
     "output_type": "execute_result"
    },
    {
     "data": {
      "text/html": [
       "<div>\n",
       "<style scoped>\n",
       "    .dataframe tbody tr th:only-of-type {\n",
       "        vertical-align: middle;\n",
       "    }\n",
       "\n",
       "    .dataframe tbody tr th {\n",
       "        vertical-align: top;\n",
       "    }\n",
       "\n",
       "    .dataframe thead th {\n",
       "        text-align: right;\n",
       "    }\n",
       "</style>\n",
       "<table border=\"1\" class=\"dataframe\">\n",
       "  <thead>\n",
       "    <tr style=\"text-align: right;\">\n",
       "      <th></th>\n",
       "      <th>Title</th>\n",
       "      <th>DataID</th>\n",
       "      <th>Page Number</th>\n",
       "      <th>Table Number</th>\n",
       "      <th>Category</th>\n",
       "    </tr>\n",
       "  </thead>\n",
       "  <tbody>\n",
       "    <tr>\n",
       "      <th>0</th>\n",
       "      <td>TABLE 3 SUMMARY OF AQUATICS FIELD WORK AND ABO...</td>\n",
       "      <td>1059614</td>\n",
       "      <td>14</td>\n",
       "      <td>1</td>\n",
       "      <td>Table</td>\n",
       "    </tr>\n",
       "    <tr>\n",
       "      <th>1</th>\n",
       "      <td>TABLE 4 SUMMARY OF WATERCOURSE CROSSINGS ALONG...</td>\n",
       "      <td>1059614</td>\n",
       "      <td>17</td>\n",
       "      <td>1</td>\n",
       "      <td>Table</td>\n",
       "    </tr>\n",
       "    <tr>\n",
       "      <th>2</th>\n",
       "      <td>TABLE 4 SUMMARY OF WATERCOURSE CROSSINGS ALONG...</td>\n",
       "      <td>1059614</td>\n",
       "      <td>18</td>\n",
       "      <td>1</td>\n",
       "      <td>Table</td>\n",
       "    </tr>\n",
       "    <tr>\n",
       "      <th>3</th>\n",
       "      <td>TABLE 4 SUMMARY OF WATERCOURSE CROSSINGS ALONG...</td>\n",
       "      <td>1059614</td>\n",
       "      <td>19</td>\n",
       "      <td>1</td>\n",
       "      <td>Table</td>\n",
       "    </tr>\n",
       "    <tr>\n",
       "      <th>4</th>\n",
       "      <td>TABLE 4 SUMMARY OF WATERCOURSE CROSSINGS ALONG...</td>\n",
       "      <td>1059614</td>\n",
       "      <td>20</td>\n",
       "      <td>1</td>\n",
       "      <td>Table</td>\n",
       "    </tr>\n",
       "  </tbody>\n",
       "</table>\n",
       "</div>"
      ],
      "text/plain": [
       "                                               Title   DataID  Page Number  \\\n",
       "0  TABLE 3 SUMMARY OF AQUATICS FIELD WORK AND ABO...  1059614           14   \n",
       "1  TABLE 4 SUMMARY OF WATERCOURSE CROSSINGS ALONG...  1059614           17   \n",
       "2  TABLE 4 SUMMARY OF WATERCOURSE CROSSINGS ALONG...  1059614           18   \n",
       "3  TABLE 4 SUMMARY OF WATERCOURSE CROSSINGS ALONG...  1059614           19   \n",
       "4  TABLE 4 SUMMARY OF WATERCOURSE CROSSINGS ALONG...  1059614           20   \n",
       "\n",
       "   Table Number Category  \n",
       "0             1    Table  \n",
       "1             1    Table  \n",
       "2             1    Table  \n",
       "3             1    Table  \n",
       "4             1    Table  "
      ]
     },
     "execution_count": 16,
     "metadata": {},
     "output_type": "execute_result"
    }
   ],
   "source": [
    "df_table_titles = pd.read_csv('F:/Environmental Baseline Data/Version 4 - Final/Saved2/all_tables-final.csv')\n",
    "# From Janna 4 May 2020\n",
    "# F:\\Environmental Baseline Data\\Version 4 - Final\\Saved2\\all_tables-final.csv\n",
    "# F:\\Environmental Baseline Data\\Version 4 - Final\\Saved2\\final_figs_pivoted_new.csv\n",
    "\n",
    "df_table_titles.shape\n",
    "df_table_titles = df_table_titles.dropna(subset = ['titleFinal']) #drop those with no title\n",
    "df_table_titles.shape\n",
    "df_table_titles = df_table_titles[['titleFinal', 'pdfId', 'page', 'tableNumber']]\n",
    "df_table_titles = df_table_titles.rename(columns = {'titleFinal' : 'Title', 'pdfId' : 'DataID', \\\n",
    "                                                    'page' : 'Page Number', 'tableNumber' : 'Table Number'})\n",
    "df_table_titles['Category'] = 'Table'\n",
    "df_table_titles['DataID'] = df_table_titles['DataID'].astype(str)\n",
    "df_table_titles.head()\n"
   ]
  },
  {
   "cell_type": "code",
   "execution_count": 43,
   "metadata": {},
   "outputs": [
    {
     "data": {
      "text/plain": [
       "(28891, 37)"
      ]
     },
     "execution_count": 43,
     "metadata": {},
     "output_type": "execute_result"
    },
    {
     "data": {
      "text/plain": [
       "14459"
      ]
     },
     "execution_count": 43,
     "metadata": {},
     "output_type": "execute_result"
    },
    {
     "data": {
      "text/plain": [
       "38"
      ]
     },
     "execution_count": 43,
     "metadata": {},
     "output_type": "execute_result"
    }
   ],
   "source": [
    "tables_df_regdocs = df_table_titles.merge(df_esa_with_gis_components_short_names_topics_page_count,\n",
    "                                           on = ['DataID'], how = 'left')\n",
    "tables_df_regdocs.shape\n",
    "tables_df_regdocs['Title'].nunique()\n",
    "tables_df_regdocs['application_name'].nunique()"
   ]
  },
  {
   "cell_type": "markdown",
   "metadata": {},
   "source": [
    "## Load Figures data and merge with Regdocs"
   ]
  },
  {
   "cell_type": "code",
   "execution_count": 44,
   "metadata": {},
   "outputs": [
    {
     "data": {
      "text/plain": [
       "(9136, 4)"
      ]
     },
     "execution_count": 44,
     "metadata": {},
     "output_type": "execute_result"
    },
    {
     "data": {
      "text/plain": [
       "Title          0\n",
       "DataID         0\n",
       "Page Number    0\n",
       "Category       0\n",
       "dtype: int64"
      ]
     },
     "execution_count": 44,
     "metadata": {},
     "output_type": "execute_result"
    },
    {
     "data": {
      "text/plain": [
       "(9134, 36)"
      ]
     },
     "execution_count": 44,
     "metadata": {},
     "output_type": "execute_result"
    },
    {
     "data": {
      "text/plain": [
       "3797"
      ]
     },
     "execution_count": 44,
     "metadata": {},
     "output_type": "execute_result"
    }
   ],
   "source": [
    "figs = pd.read_csv('F:/Environmental Baseline Data/Version 4 - Final/Support files/figures_for_tableau.csv')\n",
    "figs['location_Page'] = pd.to_numeric(figs['location_Page'].fillna(0), errors='ignore', downcast = 'integer')\n",
    "figs['location_DataID'] = pd.to_numeric(figs['location_DataID'].fillna(0), errors='ignore', downcast = 'integer')\n",
    "figs.columns = ['Title', 'short_name', 'DataID', 'Page Number']\n",
    "figs = figs.drop('short_name', axis = 1)\n",
    "figs['Category'] = 'Figure'\n",
    "figs['DataID'] = figs['DataID'].astype(str)\n",
    "figs.shape\n",
    "figs.isnull().sum()\n",
    "\n",
    "figures_df_regdocs = figs.merge(df_esa_with_gis_components_short_names_topics_page_count,\n",
    "                                           on = ['DataID'], how = 'left')\n",
    "\n",
    "figures_df_regdocs= figures_df_regdocs[~figures_df_regdocs['file_name'].isnull()] # May 4th - why ??????\n",
    "\n",
    "figures_df_regdocs.shape\n",
    "# figures_df_regdocs.isnull().sum()\n",
    "figures_df_regdocs['Title'].nunique()"
   ]
  },
  {
   "cell_type": "markdown",
   "metadata": {},
   "source": [
    "## Inspection file"
   ]
  },
  {
   "cell_type": "code",
   "execution_count": 45,
   "metadata": {
    "scrolled": false
   },
   "outputs": [
    {
     "data": {
      "text/plain": [
       "(9134, 36)"
      ]
     },
     "execution_count": 45,
     "metadata": {},
     "output_type": "execute_result"
    },
    {
     "data": {
      "text/plain": [
       "(9134, 38)"
      ]
     },
     "execution_count": 45,
     "metadata": {},
     "output_type": "execute_result"
    }
   ],
   "source": [
    "inspection = figures_df_regdocs\n",
    "inspection = inspection.rename(columns = {'Application title short' : 'Application Name', 'short_name' : 'Application Short Name', \\\n",
    "                              'file_name' : 'File Name', 'esa_folder_link' : 'ESA Folder URL', \\\n",
    "                               'esa_download_link' : 'PDF Download URL', 'Section' : 'Application Type (NEB Act)', \\\n",
    "                                'Column1' : 'Pipeline Status', 'Regulatory Instruments Issued' : 'Regulatory Instrument(s)', \\\n",
    "                              'Link to Application' : 'Application URL', 'Link to Decision' : 'Decision URL', \\\n",
    "                              'Component PDF Name' : 'ESA Section(s)', 'download_links' : 'Component download URL', \\\n",
    "                              'Page Number' : 'PDF Page#', 'Category' : 'Content Type', 'Application filing date' : 'Application Filing Date', \\\n",
    "                                'DocumentID' : 'Document Number', 'DataID' : 'Data ID', 'Location' : 'Pipeline Location', \\\n",
    "                            'Component Index' : 'ESA Section(s) Index', 'topics' : 'ESA Section(s) Topics', \\\n",
    "                            'download_csv' : 'CSV Download URL', 'download_jpg' : 'JPG Download URL', 'Page Number' : 'PDF Page Number', \\\n",
    "                                'page_count' : 'PDF Page Count', 'size (MB)' : 'PDF Size', 'Contains outline?' : 'PDF Outline',\\\n",
    "                                             'zip_folder_url' : 'Zipped Project Link'})\n",
    "\n",
    "inspection['Data ID'] = inspection['Data ID'].astype(str)\n",
    "inspection['PDF Page Number'] = inspection['PDF Page Number'].astype(str)\n",
    "\n",
    "pdf_folder = 'F:/Environmental Baseline Data/Version 4 - Final/PDF/' + inspection['Data ID'] + '.pdf'\n",
    "jpg_folder = 'F:/Environmental Baseline Data/Web/pdf_images/' + inspection['Data ID'] + '/' + inspection['PDF Page Number'] + '.jpg'\n",
    "inspection.shape\n",
    "inspection['pdf_path'] = pdf_folder\n",
    "inspection['jpg_path'] = jpg_folder\n",
    "inspection.shape\n",
    "\n",
    "inspection.to_csv('F:/Environmental Baseline Data/Version 4 - Final/Indices/Inspection.csv', \\\n",
    "                     encoding = 'utf_8_sig', index = False)"
   ]
  },
  {
   "cell_type": "markdown",
   "metadata": {},
   "source": [
    "## Combined Figures Regdocs and Tables Regdocs data"
   ]
  },
  {
   "cell_type": "code",
   "execution_count": 46,
   "metadata": {
    "scrolled": false
   },
   "outputs": [
    {
     "data": {
      "text/plain": [
       "(38025, 37)"
      ]
     },
     "execution_count": 46,
     "metadata": {},
     "output_type": "execute_result"
    }
   ],
   "source": [
    "tables_figures_regdocs = pd.concat([figures_df_regdocs, tables_df_regdocs], sort = True)          \n",
    "tables_figures_regdocs['DataID'] = tables_figures_regdocs['DataID'].astype(str)\n",
    "tables_figures_regdocs['Page Number'] = tables_figures_regdocs['Page Number'].astype(str)\n",
    "tables_figures_regdocs['Table Number'] = tables_figures_regdocs['Table Number'].astype(str)\n",
    "tables_figures_regdocs.shape #(31048, 37)"
   ]
  },
  {
   "cell_type": "code",
   "execution_count": 47,
   "metadata": {
    "scrolled": false
   },
   "outputs": [
    {
     "data": {
      "text/plain": [
       "(38025, 39)"
      ]
     },
     "execution_count": 47,
     "metadata": {},
     "output_type": "execute_result"
    }
   ],
   "source": [
    "#create download strings\n",
    "csv = 'http://www.cer-rec.gc.ca/esa-ees/' +  tables_figures_regdocs['Download folder name'] + '/' + tables_figures_regdocs['DataID'] + '_' + tables_figures_regdocs['Page Number'] + '_' + tables_figures_regdocs['Table Number'] + '.csv'\n",
    "\n",
    "zip_folder = 'http://www.cer-rec.gc.ca/esa-ees/' +  tables_figures_regdocs['Download folder name'] + '.zip' \n",
    "\n",
    "tables_figures_regdocs['download_csv'] = csv\n",
    "tables_figures_regdocs['zip_folder_url'] = zip_folder\n",
    "\n",
    "tables_figures_regdocs.loc[tables_figures_regdocs['download_csv'].str.contains('nan', na=False), 'download_csv'] = np.nan \n",
    "tables_figures_regdocs['download_csv'] = tables_figures_regdocs['download_csv'].str.replace('.0.csv', '.csv')\n",
    "\n",
    "tables_figures_regdocs['download_csv'].to_csv('test.csv')\n",
    "tables_figures_regdocs.shape\n",
    "# (31048, 39)\n"
   ]
  },
  {
   "cell_type": "markdown",
   "metadata": {},
   "source": [
    "## ESA Dataset FINAL for Tableau"
   ]
  },
  {
   "cell_type": "code",
   "execution_count": 48,
   "metadata": {
    "scrolled": false
   },
   "outputs": [
    {
     "data": {
      "text/plain": [
       "Index(['Title', 'Content Type', 'Application Name', 'Application Short Name',\n",
       "       'Application Filing Date', 'Company Name', 'Commodity', 'File Name',\n",
       "       'ESA Folder URL', 'Document Number', 'Data ID', 'PDF Download URL',\n",
       "       'Application Type (NEB Act)', 'Pipeline Location', 'Hearing order',\n",
       "       'Consultant Name', 'Pipeline Status', 'Regulatory Instrument(s)',\n",
       "       'Application URL', 'Decision URL', 'ESA Section(s)',\n",
       "       'ESA Section(s) Index', 'ESA Section(s) Topics', 'CSV Download URL',\n",
       "       'PDF Page Number', 'PDF Page Count', 'PDF Size', 'PDF Outline',\n",
       "       'Download folder name', 'Zipped Project Link'],\n",
       "      dtype='object')"
      ]
     },
     "execution_count": 48,
     "metadata": {},
     "output_type": "execute_result"
    },
    {
     "data": {
      "text/plain": [
       "30"
      ]
     },
     "execution_count": 48,
     "metadata": {},
     "output_type": "execute_result"
    },
    {
     "data": {
      "text/plain": [
       "(38025, 30)"
      ]
     },
     "execution_count": 48,
     "metadata": {},
     "output_type": "execute_result"
    }
   ],
   "source": [
    "esa_final_df = tables_figures_regdocs[['Title', 'Category', 'Application title short', 'short_name', 'Application filing date', 'Company Name',\n",
    "                                 'Commodity', 'file_name', 'esa_folder_link', 'DocumentID', 'DataID', \n",
    "                                  'esa_download_link','Section', 'Location', 'Hearing order', 'Consultant Name', 'Column1' , \n",
    "                                  'Regulatory Instruments Issued', 'Link to Application', 'Link to Decision',\n",
    "                                 'Component PDF Name', 'Component Index', 'topics','download_csv', 'Page Number',\n",
    "                                'page_count', 'size (MB)', 'Contains outline?', 'Download folder name', 'zip_folder_url']]\n",
    "\n",
    "esa_final_df = esa_final_df.rename(columns = {'Application title short' : 'Application Name', 'short_name' : 'Application Short Name', \\\n",
    "                              'file_name' : 'File Name', 'esa_folder_link' : 'ESA Folder URL', \\\n",
    "                               'esa_download_link' : 'PDF Download URL', 'Section' : 'Application Type (NEB Act)', \\\n",
    "                                'Column1' : 'Pipeline Status', 'Regulatory Instruments Issued' : 'Regulatory Instrument(s)', \\\n",
    "                              'Link to Application' : 'Application URL', 'Link to Decision' : 'Decision URL', \\\n",
    "                              'Component PDF Name' : 'ESA Section(s)', 'download_links' : 'Component download URL', \\\n",
    "                              'Page Number' : 'PDF Page#', 'Category' : 'Content Type', 'Application filing date' : 'Application Filing Date', \\\n",
    "                                'DocumentID' : 'Document Number', 'DataID' : 'Data ID', 'Location' : 'Pipeline Location', \\\n",
    "                            'Component Index' : 'ESA Section(s) Index', 'topics' : 'ESA Section(s) Topics', \\\n",
    "                            'download_csv' : 'CSV Download URL', 'Page Number' : 'PDF Page Number', \\\n",
    "                                'page_count' : 'PDF Page Count', 'size (MB)' : 'PDF Size', 'Contains outline?' : 'PDF Outline',\\\n",
    "                                             'zip_folder_url' : 'Zipped Project Link'})\n",
    "                                                                                       \n",
    "                                            \n",
    "# esa_final_df.to_csv('F:/Environmental Baseline Data/Version 4 - Final/Tableau files/Prototype/jagoda edits/ESA_data.csv', \\\n",
    "#                     encoding = 'utf_8_sig')\n",
    "\n",
    "# esa_final_df.to_csv('F:/Environmental Baseline Data/Version 4 - Final/Indices/ESA_data.csv', \\\n",
    "#                     encoding = 'utf_8_sig')\n",
    "esa_final_df.columns\n",
    "len(esa_final_df.columns)\n",
    "esa_final_df.shape"
   ]
  },
  {
   "cell_type": "markdown",
   "metadata": {},
   "source": [
    "## ESA FLAT FILE ENG"
   ]
  },
  {
   "cell_type": "code",
   "execution_count": 49,
   "metadata": {
    "scrolled": false
   },
   "outputs": [
    {
     "data": {
      "text/plain": [
       "array(['Application to Construct and Operate Ekwan Pipeline',\n",
       "       'Application for the Keystone Pipeline',\n",
       "       'Application for Line 13 Transfer, Line 13 Reversal and Capacity Replacement for the Southern Lights Project',\n",
       "       'Application for the Alberta Clipper Expansion Project',\n",
       "       'Application for the Line 4 Extension Project',\n",
       "       'Application for the Cushing Expansion',\n",
       "       'Application for Redwillow Pipeline Project',\n",
       "       'Application to construct and operate the South Peace Pipeline Project',\n",
       "       'Application for the Keystone XL Pipeline',\n",
       "       'Application for the Groundbirch Pipeline Project',\n",
       "       'Application for the Horn River Project',\n",
       "       'Application for the Enbridge Northern Gateway Pipeline Project',\n",
       "       'Application for Bakken Pipeline Project Canada',\n",
       "       'Application for the Vantage Pipeline Project',\n",
       "       'Application for the Northwest Mainline Expansion',\n",
       "       'Application for the Leismer to Kettle River Crossover',\n",
       "       'Application for Line 9 Reversal Phase I Project',\n",
       "       'Application for Northwest Mainline Komie North Extension',\n",
       "       'Application for the Edmonton to Hardisty Pipeline Project',\n",
       "       'Application for North Montney Project',\n",
       "       'Application for Trans Mountain Expansion Project',\n",
       "       'Application for the Wolverine River Lateral Loop Carmon Creek Section',\n",
       "       'Applications for Energy East, Asset Transfer and Eastern Mainline (Eastern Mainline ESA)',\n",
       "       'Application for the Line 3 Replacement Program',\n",
       "       'Application for the 2017 NGTL System Expansion',\n",
       "       'Application for the Towerbirch Expansion Project',\n",
       "       'Applications for Energy East, Asset Transfer and Eastern Mainline (Energy East ESA)',\n",
       "       'Application for the Wyndwood Pipeline Expansion Project',\n",
       "       'Application for the Spruce Ridge Program',\n",
       "       'Application for the construction of the West Path Delivery Project',\n",
       "       'Application for 2021 NGTL System Expansion Project',\n",
       "       'Application for Leave to Abandon Deep Panuke Pipeline',\n",
       "       'Application for the Construction of North Corridor Expansion Project',\n",
       "       'Application for the Construction of Edson Mainline Expansion Project',\n",
       "       'Application for the construction and operation of the Mackenzie Gas Pipeline',\n",
       "       'Application for the Albersun Pipeline Asset Purchase G',\n",
       "       'Application for the Goldboro Gas Plant and 26\" Gathering Pipeline Abandonment',\n",
       "       'Application for the Brunswick Pipeline Project'], dtype=object)"
      ]
     },
     "execution_count": 49,
     "metadata": {},
     "output_type": "execute_result"
    },
    {
     "data": {
      "text/plain": [
       "8729"
      ]
     },
     "execution_count": 49,
     "metadata": {},
     "output_type": "execute_result"
    },
    {
     "data": {
      "text/plain": [
       "(38025, 30)"
      ]
     },
     "execution_count": 49,
     "metadata": {},
     "output_type": "execute_result"
    },
    {
     "data": {
      "text/html": [
       "<div>\n",
       "<style scoped>\n",
       "    .dataframe tbody tr th:only-of-type {\n",
       "        vertical-align: middle;\n",
       "    }\n",
       "\n",
       "    .dataframe tbody tr th {\n",
       "        vertical-align: top;\n",
       "    }\n",
       "\n",
       "    .dataframe thead th {\n",
       "        text-align: right;\n",
       "    }\n",
       "</style>\n",
       "<table border=\"1\" class=\"dataframe\">\n",
       "  <thead>\n",
       "    <tr style=\"text-align: right;\">\n",
       "      <th></th>\n",
       "      <th>Title</th>\n",
       "      <th>Content Type</th>\n",
       "      <th>Application Name</th>\n",
       "      <th>Application Short Name</th>\n",
       "      <th>Application Filing Date</th>\n",
       "      <th>Company Name</th>\n",
       "      <th>Commodity</th>\n",
       "      <th>File Name</th>\n",
       "      <th>ESA Folder URL</th>\n",
       "      <th>Document Number</th>\n",
       "      <th>...</th>\n",
       "      <th>ESA Section(s)</th>\n",
       "      <th>ESA Section(s) Index</th>\n",
       "      <th>ESA Section(s) Topics</th>\n",
       "      <th>CSV Download URL</th>\n",
       "      <th>PDF Page Number</th>\n",
       "      <th>PDF Page Count</th>\n",
       "      <th>PDF Size</th>\n",
       "      <th>PDF Outline</th>\n",
       "      <th>Download folder name</th>\n",
       "      <th>Zipped Project Link</th>\n",
       "    </tr>\n",
       "  </thead>\n",
       "  <tbody>\n",
       "    <tr>\n",
       "      <th>0</th>\n",
       "      <td>Figure 13.1-1 EnCana Ekwan Pipeline</td>\n",
       "      <td>Figure</td>\n",
       "      <td>Application to Construct and Operate Ekwan Pip...</td>\n",
       "      <td>Ekwan</td>\n",
       "      <td>2003-03-17</td>\n",
       "      <td>EnCana Ekwan Pipeline Inc.</td>\n",
       "      <td>Gas</td>\n",
       "      <td>A0H8C0 - 13.0 EIA - Section 13.1 to 13.6</td>\n",
       "      <td>https://apps.cer-rec.gc.ca/REGDOCS/Item/LoadRe...</td>\n",
       "      <td>A0H8C0</td>\n",
       "      <td>...</td>\n",
       "      <td>Section 13.1: Introduction, Section 13.1: Proj...</td>\n",
       "      <td>1.0</td>\n",
       "      <td>Land, Air, Vegetation</td>\n",
       "      <td>NaN</td>\n",
       "      <td>26</td>\n",
       "      <td>107.0</td>\n",
       "      <td>1.41</td>\n",
       "      <td>Yes</td>\n",
       "      <td>kwn</td>\n",
       "      <td>http://www.cer-rec.gc.ca/esa-ees/kwn.zip</td>\n",
       "    </tr>\n",
       "    <tr>\n",
       "      <th>1</th>\n",
       "      <td>Figure 13.3-1 CEA Framework</td>\n",
       "      <td>Figure</td>\n",
       "      <td>Application to Construct and Operate Ekwan Pip...</td>\n",
       "      <td>Ekwan</td>\n",
       "      <td>2003-03-17</td>\n",
       "      <td>EnCana Ekwan Pipeline Inc.</td>\n",
       "      <td>Gas</td>\n",
       "      <td>A0H8C0 - 13.0 EIA - Section 13.1 to 13.6</td>\n",
       "      <td>https://apps.cer-rec.gc.ca/REGDOCS/Item/LoadRe...</td>\n",
       "      <td>A0H8C0</td>\n",
       "      <td>...</td>\n",
       "      <td>Section 13.1: Introduction, Section 13.1: Proj...</td>\n",
       "      <td>1.0</td>\n",
       "      <td>Land, Air, Vegetation</td>\n",
       "      <td>NaN</td>\n",
       "      <td>41</td>\n",
       "      <td>107.0</td>\n",
       "      <td>1.41</td>\n",
       "      <td>Yes</td>\n",
       "      <td>kwn</td>\n",
       "      <td>http://www.cer-rec.gc.ca/esa-ees/kwn.zip</td>\n",
       "    </tr>\n",
       "  </tbody>\n",
       "</table>\n",
       "<p>2 rows × 30 columns</p>\n",
       "</div>"
      ],
      "text/plain": [
       "                                 Title Content Type  \\\n",
       "0  Figure 13.1-1 EnCana Ekwan Pipeline       Figure   \n",
       "1          Figure 13.3-1 CEA Framework       Figure   \n",
       "\n",
       "                                    Application Name Application Short Name  \\\n",
       "0  Application to Construct and Operate Ekwan Pip...                  Ekwan   \n",
       "1  Application to Construct and Operate Ekwan Pip...                  Ekwan   \n",
       "\n",
       "  Application Filing Date                Company Name Commodity  \\\n",
       "0              2003-03-17  EnCana Ekwan Pipeline Inc.       Gas   \n",
       "1              2003-03-17  EnCana Ekwan Pipeline Inc.       Gas   \n",
       "\n",
       "                                   File Name  \\\n",
       "0  A0H8C0 - 13.0 EIA - Section 13.1 to 13.6    \n",
       "1  A0H8C0 - 13.0 EIA - Section 13.1 to 13.6    \n",
       "\n",
       "                                      ESA Folder URL Document Number  ...  \\\n",
       "0  https://apps.cer-rec.gc.ca/REGDOCS/Item/LoadRe...          A0H8C0  ...   \n",
       "1  https://apps.cer-rec.gc.ca/REGDOCS/Item/LoadRe...          A0H8C0  ...   \n",
       "\n",
       "                                      ESA Section(s) ESA Section(s) Index  \\\n",
       "0  Section 13.1: Introduction, Section 13.1: Proj...                  1.0   \n",
       "1  Section 13.1: Introduction, Section 13.1: Proj...                  1.0   \n",
       "\n",
       "   ESA Section(s) Topics CSV Download URL PDF Page Number PDF Page Count  \\\n",
       "0  Land, Air, Vegetation              NaN              26          107.0   \n",
       "1  Land, Air, Vegetation              NaN              41          107.0   \n",
       "\n",
       "  PDF Size PDF Outline Download folder name  \\\n",
       "0     1.41         Yes                  kwn   \n",
       "1     1.41         Yes                  kwn   \n",
       "\n",
       "                        Zipped Project Link  \n",
       "0  http://www.cer-rec.gc.ca/esa-ees/kwn.zip  \n",
       "1  http://www.cer-rec.gc.ca/esa-ees/kwn.zip  \n",
       "\n",
       "[2 rows x 30 columns]"
      ]
     },
     "execution_count": 49,
     "metadata": {},
     "output_type": "execute_result"
    }
   ],
   "source": [
    "esa_ENG = esa_final_df\n",
    "esa_ENG['Application Name'].unique()\n",
    "esa_ENG['Decision URL'].isnull().sum()\n",
    "\n",
    "esa_ENG['Pipeline Location'] = esa_ENG['Pipeline Location'].str.replace(', All', '')\n",
    "esa_ENG['ESA Section(s) Topics'] = esa_ENG['ESA Section(s) Topics'].str.replace(', All', '')\n",
    "esa_ENG.shape\n",
    "esa_ENG.head(2)\n",
    "# esa_ENG.to_csv('F:/Environmental Baseline Data/Version 4 - Final/Indices/ESA_website_ENG.csv', encoding = 'utf_8_sig')"
   ]
  },
  {
   "cell_type": "markdown",
   "metadata": {},
   "source": [
    "## ESA FLAT FILE FRA"
   ]
  },
  {
   "cell_type": "code",
   "execution_count": 50,
   "metadata": {
    "scrolled": false
   },
   "outputs": [
    {
     "data": {
      "text/html": [
       "<div>\n",
       "<style scoped>\n",
       "    .dataframe tbody tr th:only-of-type {\n",
       "        vertical-align: middle;\n",
       "    }\n",
       "\n",
       "    .dataframe tbody tr th {\n",
       "        vertical-align: top;\n",
       "    }\n",
       "\n",
       "    .dataframe thead th {\n",
       "        text-align: right;\n",
       "    }\n",
       "</style>\n",
       "<table border=\"1\" class=\"dataframe\">\n",
       "  <thead>\n",
       "    <tr style=\"text-align: right;\">\n",
       "      <th></th>\n",
       "      <th>Titre</th>\n",
       "      <th>Type de contenu</th>\n",
       "      <th>Nom de la demande</th>\n",
       "      <th>Nom abrégé de la demande</th>\n",
       "      <th>Dépôt de la demande</th>\n",
       "      <th>Nom de la société</th>\n",
       "      <th>Produit de base</th>\n",
       "      <th>Nom de fichier</th>\n",
       "      <th>URL du dossier de l’ÉES</th>\n",
       "      <th>Numéro de document</th>\n",
       "      <th>...</th>\n",
       "      <th>Sections de l’EES</th>\n",
       "      <th>Index des sections de l’ÉES</th>\n",
       "      <th>Sujets des sections de l’ÉES</th>\n",
       "      <th>URL de téléchargement CSV</th>\n",
       "      <th>Numéro de page PDF</th>\n",
       "      <th>Nombre de pages PDF</th>\n",
       "      <th>Taille PDF</th>\n",
       "      <th>Aperçu PDF</th>\n",
       "      <th>Télécharger le nom du dossier</th>\n",
       "      <th>Lien vers le projet compressé</th>\n",
       "    </tr>\n",
       "  </thead>\n",
       "  <tbody>\n",
       "    <tr>\n",
       "      <th>0</th>\n",
       "      <td>Figure 13.1-1 EnCana Ekwan Pipeline</td>\n",
       "      <td>Figure</td>\n",
       "      <td>Demande visant la construction et l’exploitati...</td>\n",
       "      <td>Ekwan</td>\n",
       "      <td>2003-03-17</td>\n",
       "      <td>EnCana Ekwan Pipeline Inc.</td>\n",
       "      <td>Gaz</td>\n",
       "      <td>A0H8C0 - 13.0 EIA - Section 13.1 to 13.6</td>\n",
       "      <td>https://apps.cer-rec.gc.ca/REGDOCS/Item/LoadRe...</td>\n",
       "      <td>A0H8C0</td>\n",
       "      <td>...</td>\n",
       "      <td>Section 13.1: Introduction, Section 13.1: Proj...</td>\n",
       "      <td>1.0</td>\n",
       "      <td>Terres, Air, Végétation</td>\n",
       "      <td>NaN</td>\n",
       "      <td>26</td>\n",
       "      <td>107.0</td>\n",
       "      <td>1.41</td>\n",
       "      <td>Oui</td>\n",
       "      <td>kwn</td>\n",
       "      <td>http://www.cer-rec.gc.ca/esa-ees/kwn.zip</td>\n",
       "    </tr>\n",
       "    <tr>\n",
       "      <th>1</th>\n",
       "      <td>Figure 13.3-1 CEA Framework</td>\n",
       "      <td>Figure</td>\n",
       "      <td>Demande visant la construction et l’exploitati...</td>\n",
       "      <td>Ekwan</td>\n",
       "      <td>2003-03-17</td>\n",
       "      <td>EnCana Ekwan Pipeline Inc.</td>\n",
       "      <td>Gaz</td>\n",
       "      <td>A0H8C0 - 13.0 EIA - Section 13.1 to 13.6</td>\n",
       "      <td>https://apps.cer-rec.gc.ca/REGDOCS/Item/LoadRe...</td>\n",
       "      <td>A0H8C0</td>\n",
       "      <td>...</td>\n",
       "      <td>Section 13.1: Introduction, Section 13.1: Proj...</td>\n",
       "      <td>1.0</td>\n",
       "      <td>Terres, Air, Végétation</td>\n",
       "      <td>NaN</td>\n",
       "      <td>41</td>\n",
       "      <td>107.0</td>\n",
       "      <td>1.41</td>\n",
       "      <td>Oui</td>\n",
       "      <td>kwn</td>\n",
       "      <td>http://www.cer-rec.gc.ca/esa-ees/kwn.zip</td>\n",
       "    </tr>\n",
       "  </tbody>\n",
       "</table>\n",
       "<p>2 rows × 30 columns</p>\n",
       "</div>"
      ],
      "text/plain": [
       "                                 Titre Type de contenu  \\\n",
       "0  Figure 13.1-1 EnCana Ekwan Pipeline          Figure   \n",
       "1          Figure 13.3-1 CEA Framework          Figure   \n",
       "\n",
       "                                   Nom de la demande Nom abrégé de la demande  \\\n",
       "0  Demande visant la construction et l’exploitati...                    Ekwan   \n",
       "1  Demande visant la construction et l’exploitati...                    Ekwan   \n",
       "\n",
       "  Dépôt de la demande           Nom de la société Produit de base  \\\n",
       "0          2003-03-17  EnCana Ekwan Pipeline Inc.             Gaz   \n",
       "1          2003-03-17  EnCana Ekwan Pipeline Inc.             Gaz   \n",
       "\n",
       "                              Nom de fichier  \\\n",
       "0  A0H8C0 - 13.0 EIA - Section 13.1 to 13.6    \n",
       "1  A0H8C0 - 13.0 EIA - Section 13.1 to 13.6    \n",
       "\n",
       "                             URL du dossier de l’ÉES Numéro de document  ...  \\\n",
       "0  https://apps.cer-rec.gc.ca/REGDOCS/Item/LoadRe...             A0H8C0  ...   \n",
       "1  https://apps.cer-rec.gc.ca/REGDOCS/Item/LoadRe...             A0H8C0  ...   \n",
       "\n",
       "                                   Sections de l’EES  \\\n",
       "0  Section 13.1: Introduction, Section 13.1: Proj...   \n",
       "1  Section 13.1: Introduction, Section 13.1: Proj...   \n",
       "\n",
       "  Index des sections de l’ÉES Sujets des sections de l’ÉES  \\\n",
       "0                         1.0      Terres, Air, Végétation   \n",
       "1                         1.0      Terres, Air, Végétation   \n",
       "\n",
       "  URL de téléchargement CSV Numéro de page PDF Nombre de pages PDF Taille PDF  \\\n",
       "0                       NaN                 26               107.0       1.41   \n",
       "1                       NaN                 41               107.0       1.41   \n",
       "\n",
       "  Aperçu PDF Télécharger le nom du dossier  \\\n",
       "0        Oui                           kwn   \n",
       "1        Oui                           kwn   \n",
       "\n",
       "              Lien vers le projet compressé  \n",
       "0  http://www.cer-rec.gc.ca/esa-ees/kwn.zip  \n",
       "1  http://www.cer-rec.gc.ca/esa-ees/kwn.zip  \n",
       "\n",
       "[2 rows x 30 columns]"
      ]
     },
     "execution_count": 50,
     "metadata": {},
     "output_type": "execute_result"
    },
    {
     "data": {
      "text/plain": [
       "(38025, 30)"
      ]
     },
     "execution_count": 50,
     "metadata": {},
     "output_type": "execute_result"
    }
   ],
   "source": [
    "esa_FRA = esa_ENG\n",
    "esa_FRA = esa_FRA.rename(columns = {'Title' : 'Titre', 'Content Type' : 'Type de contenu', 'Application Name' : 'Nom de la demande', \\\n",
    "                                   'Application Short Name' : 'Nom abrégé de la demande', 'Application Filing Date' : 'Dépôt de la demande', \\\n",
    "                                   'Company Name' : 'Nom de la société', 'Commodity' : 'Produit de base', 'File Name' : 'Nom de fichier', \\\n",
    "                                   'ESA Folder URL' : 'URL du dossier de l’ÉES', 'Document Number': 'Numéro de document', \\\n",
    "                                    'Data ID' : 'Identificateur de données', 'PDF Download URL' : 'URL de téléchargement PDF', \\\n",
    "                                    'Application Type (NEB Act)' : 'Type de demande (Loi sur l’Office national de l’énergie)', \\\n",
    "                                    'Pipeline Location' : 'Emplacement du pipeline', 'Hearing order' : 'Ordonnance d’audience', \\\n",
    "                                    'Consultant Name' : 'Nom du consultant', 'Pipeline Status' : \"État d'avancement\", \\\n",
    "                                    'Regulatory Instrument(s)' : 'Instruments réglementaires', 'Application URL' : 'URL de la demande', \\\n",
    "                                    'Decision URL' : 'URL de la décision', 'ESA Section(s)' : 'Sections de l’EES', \\\n",
    "                                    'ESA Section(s) Index' : 'Index des sections de l’ÉES', 'ESA Section(s) Topics' : 'Sujets des sections de l’ÉES' , \\\n",
    "                                    'CSV Download URL' : 'URL de téléchargement CSV', 'PDF Page Number' : 'Numéro de page PDF', \\\n",
    "                                    'PDF Page Count' : 'Nombre de pages PDF', 'PDF Size' : 'Taille PDF' , 'PDF Outline' : 'Aperçu PDF', \\\n",
    "                                    'Download folder name' : 'Télécharger le nom du dossier',  'Zipped Project Link' : 'Lien vers le projet compressé'})\n",
    "\n",
    "esa_FRA['Emplacement du pipeline'] = esa_FRA['Emplacement du pipeline'].str.replace('British Columbia', 'Colombie britannique')\\\n",
    "            .str.replace('Northwest Territories', 'Territoires du nord-ouest').str.replace('Quebec', 'Québec')\\\n",
    "            .str.replace('New Brunswick', 'Nouveau-Brunswick').str.replace('Nova Scotia', 'Nouvelle-Écosse')\n",
    "\n",
    "esa_FRA['Type de demande (Loi sur l’Office national de l’énergie)'] = esa_FRA['Type de demande (Loi sur l’Office national de l’énergie)']\\\n",
    "        .str.replace('Pipeline Abandonment', 'Projets de cessation d’exploitation de pipeline')\\\n",
    "        .str.replace('Large Projects \\(over 40 km\\)', 'Projets de grande envergure (plus de 40 km)')\\\n",
    "        .str.replace('Small Projects \\(under 40 km\\)', 'Petits projets pipeliniers (moins de 40 km)')\n",
    "\n",
    "esa_FRA['Type de contenu'] = esa_FRA['Type de contenu'].str.replace('Table', 'Tableau')\n",
    "\n",
    "esa_FRA['Produit de base'] = esa_FRA['Produit de base'].str.replace('Gas', 'Gaz').str.replace('Oil', 'Pétrole')\n",
    "\n",
    "esa_FRA[\"État d'avancement\"] = esa_FRA[\"État d'avancement\"].str.replace('Operating', 'En exploitation' )\\\n",
    "        .str.replace('Abandonment Pending', 'Cessation d’exploitation en instance')\\\n",
    "        .str.replace('Approved', 'Demande approuvée')\\\n",
    "        .str.replace('Revoked Certificate', 'Certificats révoqués')\\\n",
    "        .str.replace('Withdrawn', 'Demande retirée')\\\n",
    "        .str.replace('Rescinded Certificates', 'Certificat annulé')\\\n",
    "        .str.replace('Applied', 'Demande présentée')\n",
    "\n",
    "esa_FRA['Sujets des sections de l’ÉES'] = esa_FRA['Sujets des sections de l’ÉES'].str.replace('Water', 'Eau')\\\n",
    "    .str.replace('Land', 'Terres').str.replace('Wildlife', 'Faune').str.replace('Vegetation', 'Végétation')\\\n",
    "    .str.replace('Human', 'Aspect humain').str.replace('Technology', 'Aspect technique')\\\n",
    "    .str.replace('Alignment Sheet','Carte-tracé')\\\n",
    "    .str.replace('Environment Protection Plan', 'Plan de protection de l’environnement')\\\n",
    "    .str.replace('Traditional Knowledge', 'Utilisation des terres à des fins traditionnelles')\n",
    "\n",
    "esa_FRA['Nom de la demande'] = esa_FRA['Nom de la demande'].str.replace('Application for the Construction of North Corridor Expansion Project', 'Demande visant la construction du projet d’agrandissement du couloir nord')\\\n",
    "    .str.replace('Application for the Construction of Edson Mainline Expansion Project','Demande visant la construction du projet d’agrandissement du réseau principal à Edson')\\\n",
    "    .str.replace('Application for 2021 NGTL System Expansion Project', 'Demande visant le projet d’agrandissement du réseau de NGTL en 2021')\\\n",
    "    .str.replace('Application for Leave to Abandon Deep Panuke Pipeline', 'Demande visant la cessation d’exploitation du pipeline Deep Panuke')\\\n",
    "    .str.replace('Application for the Goldboro Gas Plant and 26\" Gathering Pipeline Abandonment', 'Demande visant la cessation d’exploitation de l’usine à gaz Goldboro et du pipeline de collecte de 26 po')\\\n",
    "    .str.replace('Application for the construction of the West Path Delivery Project','Demande visant la construction du projet de livraison parcours ouest')\\\n",
    "    .str.replace('Application for the Spruce Ridge Program', 'Demande visant le programme Spruce Ridge')\\\n",
    "    .str.replace('Application for the Wyndwood Pipeline Expansion Project', 'Demande visant le projet d’agrandissement du pipeline Wyndwood')\\\n",
    "    .str.replace('Application for the Albersun Pipeline Asset Purchase G', 'Demande concernant l’acquisition du pipeline Albersun')\\\n",
    "    .str.replace('Application for the Towerbirch Expansion Project', 'Demande concernant le projet d’expansion Towerbirch')\\\n",
    "    .str.replace('Application for the 2017 NGTL System Expansion', 'Demande visant l’agrandissement du réseau de NGTL en 2017')\\\n",
    "    .str.replace('Application for the Line 3 Replacement Program', 'Demande visant le programme de remplacement de la canalisation 3')\\\n",
    "    .str.replace('Applications for Energy East, Asset Transfer and Eastern Mainline \\(Eastern Mainline ESA\\)', 'Demandes visant Énergie Est, la cession d’actifs et le Réseau principal Est (évaluation environnementale et socioéconomique du Réseau principal Est)')\\\n",
    "    .str.replace('Applications for Energy East, Asset Transfer and Eastern Mainline \\(Energy East ESA\\)', 'Demandes visant Énergie Est, la cession d’actifs et le Réseau principal Est (évaluation environnementale et socioéconomique d’Énergie Est)')\\\n",
    "    .str.replace('Application for the Wolverine River Lateral Loop Carmon Creek Section', 'Demande visant le tronçon Carmon Creek du doublement de la canalisation latérale Wolverine River')\\\n",
    "    .str.replace('Application for Trans Mountain Expansion Project', 'Demande visant le projet d’agrandissement du réseau de Trans Mountain')\\\n",
    "    .str.replace('Application for North Montney Project', 'Demande visant le projet North Montney')\\\n",
    "    .str.replace('Application for the Edmonton to Hardisty Pipeline Project', 'Demande visant le projet pipelinier d’Edmonton à Hardisty')\\\n",
    "    .str.replace('Application for Northwest Mainline Komie North Extension', 'Demande visant le prolongement Komie Nord du réseau principal Nord-Ouest')\\\n",
    "    .str.replace('Application for Line 9 Reversal Phase I Project', 'Demande relative à la première étape du projet d’inversion de la canalisation 9')\\\n",
    "    .str.replace('Application for the Leismer to Kettle River Crossover', 'Demande visant le pipeline de croisement de Leismer à Kettle River')\\\n",
    "    .str.replace('Application for the Northwest Mainline Expansion', 'Demande visant l’agrandissement du réseau principal Nord-Ouest')\\\n",
    "    .str.replace('Application for the Vantage Pipeline Project', 'Demande relative au projet pipelinier Vantage')\\\n",
    "    .str.replace('Application for Bakken Pipeline Project Canada', 'Demande visant le projet de pipeline Bakken Canada')\\\n",
    "    .str.replace('Application for the Enbridge Northern Gateway Pipeline Project', 'Demande visant le projet Northern Gateway d’Enbridge')\\\n",
    "    .str.replace('Application for the Horn River Project', 'Demande relative au projet de Horn River')\\\n",
    "    .str.replace('Application for the Groundbirch Pipeline Project', 'Demande relative au projet pipelinier Groundbirch')\\\n",
    "    .str.replace('Application for the Keystone XL Pipeline', 'Demande relative au pipeline Keystone XL')\\\n",
    "    .str.replace('Application to construct and operate the South Peace Pipeline Project', 'Demande visant la construction et l’exploitation du projet de pipeline South Peace')\\\n",
    "    .str.replace('Application for Redwillow Pipeline Project', 'Demande relative au projet pipelinier Redwillow')\\\n",
    "    .str.replace('Application for the Cushing Expansion', 'Demande visant l’agrandissement Cushing')\\\n",
    "    .str.replace('Application for the Line 4 Extension Project', 'Demande visant le projet de prolongement de la canalisation 4')\\\n",
    "    .str.replace('Application for the Alberta Clipper Expansion Project', 'Demande visant le projet d’agrandissement Alberta Clipper')\\\n",
    "    .str.replace('Application for Line 13 Transfer, Line 13 Reversal and Capacity Replacement for the Southern Lights Project', 'Demande visant le transfert de propriété et l’inversion de la canalisation 13 et le remplacement de capacité pour le projet Southern Lights')\\\n",
    "    .str.replace('Application for the Brunswick Pipeline Project', 'Demande relative au projet de Gazoduc Brunswick')\\\n",
    "    .str.replace('Application for the construction and operation of the Mackenzie Gas Pipeline', 'Demande visant la construction et l’exploitation du gazoduc Mackenzie')\\\n",
    "    .str.replace('Application to Construct and Operate Ekwan Pipeline', 'Demande visant la construction et l’exploitation du pipeline Ekwan')\n",
    "\n",
    "esa_FRA['Aperçu PDF'] = esa_FRA['Aperçu PDF'].str.replace('Yes', 'Oui').str.replace('No', 'Non')\n",
    "esa_FRA['URL de la décision'] = esa_FRA['URL de la décision'].str.replace('.Item.View.', '/%C3%89l%C3%A9ment/Afficher/')\n",
    "# esa_FRA.to_csv('F:/Environmental Baseline Data/Version 4 - Final/Indices/ESA_website_FRA.csv', encoding = 'utf_8_sig')\n",
    "\n",
    "esa_FRA.head(2)\n",
    "esa_FRA.shape"
   ]
  },
  {
   "cell_type": "markdown",
   "metadata": {},
   "source": [
    "## ESA Short File for LSU"
   ]
  },
  {
   "cell_type": "code",
   "execution_count": 51,
   "metadata": {},
   "outputs": [
    {
     "data": {
      "text/plain": [
       "array(['Application to Construct and Operate Ekwan Pipeline',\n",
       "       'Application for the construction and operation of the Mackenzie Gas Pipeline'],\n",
       "      dtype=object)"
      ]
     },
     "execution_count": 51,
     "metadata": {},
     "output_type": "execute_result"
    }
   ],
   "source": [
    "lsu = esa_final_df\n",
    "lsu = lsu.sort_values(by = ['Application Filing Date', 'Content Type'])\n",
    "lsu['ESA Section(s) Topics'] = lsu['ESA Section(s) Topics'].str.replace(', All', '')\n",
    "lsu = lsu.head(300)\n",
    "lsu['Application Name'].unique()\n",
    "lsu.to_excel('F:/Environmental Baseline Data/Version 4 - Final/Indices/ESA_data_lsu.xlsx', \\\n",
    "                    encoding = 'utf_8_sig')"
   ]
  },
  {
   "cell_type": "markdown",
   "metadata": {},
   "source": [
    "## ESA GIT HUB FILE"
   ]
  },
  {
   "cell_type": "code",
   "execution_count": 52,
   "metadata": {},
   "outputs": [
    {
     "data": {
      "text/plain": [
       "Index(['Application Name', 'Application Short Name', 'Application Filing Date',\n",
       "       'Company Name', 'Commodity', 'File Name', 'ESA Folder URL',\n",
       "       'Document Number', 'Data ID', 'PDF Download URL',\n",
       "       'Application Type (NEB Act)', 'Pipeline Location', 'Hearing order',\n",
       "       'Consultant Name', 'Pipeline Status', 'Regulatory Instrument(s)',\n",
       "       'Application URL', 'Decision URL', 'ESA Section(s)',\n",
       "       'ESA Section(s) Index'],\n",
       "      dtype='object')"
      ]
     },
     "execution_count": 52,
     "metadata": {},
     "output_type": "execute_result"
    },
    {
     "data": {
      "text/plain": [
       "20"
      ]
     },
     "execution_count": 52,
     "metadata": {},
     "output_type": "execute_result"
    },
    {
     "data": {
      "text/plain": [
       "(1994, 20)"
      ]
     },
     "execution_count": 52,
     "metadata": {},
     "output_type": "execute_result"
    },
    {
     "data": {
      "text/html": [
       "<div>\n",
       "<style scoped>\n",
       "    .dataframe tbody tr th:only-of-type {\n",
       "        vertical-align: middle;\n",
       "    }\n",
       "\n",
       "    .dataframe tbody tr th {\n",
       "        vertical-align: top;\n",
       "    }\n",
       "\n",
       "    .dataframe thead th {\n",
       "        text-align: right;\n",
       "    }\n",
       "</style>\n",
       "<table border=\"1\" class=\"dataframe\">\n",
       "  <thead>\n",
       "    <tr style=\"text-align: right;\">\n",
       "      <th></th>\n",
       "      <th>Application Name</th>\n",
       "      <th>Application Short Name</th>\n",
       "      <th>Application Filing Date</th>\n",
       "      <th>Company Name</th>\n",
       "      <th>Commodity</th>\n",
       "      <th>File Name</th>\n",
       "      <th>ESA Folder URL</th>\n",
       "      <th>Document Number</th>\n",
       "      <th>Data ID</th>\n",
       "      <th>PDF Download URL</th>\n",
       "      <th>Application Type (NEB Act)</th>\n",
       "      <th>Pipeline Location</th>\n",
       "      <th>Hearing order</th>\n",
       "      <th>Consultant Name</th>\n",
       "      <th>Pipeline Status</th>\n",
       "      <th>Regulatory Instrument(s)</th>\n",
       "      <th>Application URL</th>\n",
       "      <th>Decision URL</th>\n",
       "      <th>ESA Section(s)</th>\n",
       "      <th>ESA Section(s) Index</th>\n",
       "    </tr>\n",
       "  </thead>\n",
       "  <tbody>\n",
       "    <tr>\n",
       "      <th>0</th>\n",
       "      <td>Application to Construct and Operate Ekwan Pip...</td>\n",
       "      <td>Ekwan</td>\n",
       "      <td>2003-03-17</td>\n",
       "      <td>EnCana Ekwan Pipeline Inc.</td>\n",
       "      <td>Gas</td>\n",
       "      <td>A0H8C0 - 13.0 EIA - Section 13.1 to 13.6</td>\n",
       "      <td>https://apps.cer-rec.gc.ca/REGDOCS/Item/LoadRe...</td>\n",
       "      <td>A0H8C0</td>\n",
       "      <td>268706</td>\n",
       "      <td>https://apps.cer-rec.gc.ca/REGDOCS/File/Downlo...</td>\n",
       "      <td>Large Projects (over 40 km)</td>\n",
       "      <td>Alberta, British Columbia</td>\n",
       "      <td>GH-1-2003</td>\n",
       "      <td>AXYS Environmental Consulting Ltd.</td>\n",
       "      <td>Operating</td>\n",
       "      <td>GC-108</td>\n",
       "      <td>https://apps.cer-rec.gc.ca/REGDOCS/Item/View/2...</td>\n",
       "      <td>https://apps.cer-rec.gc.ca/REGDOCS/Item/View/2...</td>\n",
       "      <td>Section 13.1: Introduction, Section 13.1: Proj...</td>\n",
       "      <td>1.0</td>\n",
       "    </tr>\n",
       "    <tr>\n",
       "      <th>1</th>\n",
       "      <td>Application to Construct and Operate Ekwan Pip...</td>\n",
       "      <td>Ekwan</td>\n",
       "      <td>2003-03-17</td>\n",
       "      <td>EnCana Ekwan Pipeline Inc.</td>\n",
       "      <td>Gas</td>\n",
       "      <td>A0H8C1 - 13.0 EIA - Section 13.7 Wildlife Part 1</td>\n",
       "      <td>https://apps.cer-rec.gc.ca/REGDOCS/Item/LoadRe...</td>\n",
       "      <td>A0H8C1</td>\n",
       "      <td>268709</td>\n",
       "      <td>https://apps.cer-rec.gc.ca/REGDOCS/File/Downlo...</td>\n",
       "      <td>Large Projects (over 40 km)</td>\n",
       "      <td>Alberta, British Columbia</td>\n",
       "      <td>GH-1-2003</td>\n",
       "      <td>AXYS Environmental Consulting Ltd.</td>\n",
       "      <td>Operating</td>\n",
       "      <td>GC-108</td>\n",
       "      <td>https://apps.cer-rec.gc.ca/REGDOCS/Item/View/2...</td>\n",
       "      <td>https://apps.cer-rec.gc.ca/REGDOCS/Item/View/2...</td>\n",
       "      <td>Section 13.7: Wildlife and Wildlife Habitat</td>\n",
       "      <td>2.0</td>\n",
       "    </tr>\n",
       "    <tr>\n",
       "      <th>2</th>\n",
       "      <td>Application to Construct and Operate Ekwan Pip...</td>\n",
       "      <td>Ekwan</td>\n",
       "      <td>2003-03-17</td>\n",
       "      <td>EnCana Ekwan Pipeline Inc.</td>\n",
       "      <td>Gas</td>\n",
       "      <td>A0H8C2 - 13.0 EIA - Section 13.7 Wildlife Part 2</td>\n",
       "      <td>https://apps.cer-rec.gc.ca/REGDOCS/Item/LoadRe...</td>\n",
       "      <td>A0H8C2</td>\n",
       "      <td>268712</td>\n",
       "      <td>https://apps.cer-rec.gc.ca/REGDOCS/File/Downlo...</td>\n",
       "      <td>Large Projects (over 40 km)</td>\n",
       "      <td>Alberta, British Columbia</td>\n",
       "      <td>GH-1-2003</td>\n",
       "      <td>AXYS Environmental Consulting Ltd.</td>\n",
       "      <td>Operating</td>\n",
       "      <td>GC-108</td>\n",
       "      <td>https://apps.cer-rec.gc.ca/REGDOCS/Item/View/2...</td>\n",
       "      <td>https://apps.cer-rec.gc.ca/REGDOCS/Item/View/2...</td>\n",
       "      <td>Section 13.7: Wildlife and Wildlife Habitat</td>\n",
       "      <td>3.0</td>\n",
       "    </tr>\n",
       "    <tr>\n",
       "      <th>3</th>\n",
       "      <td>Application to Construct and Operate Ekwan Pip...</td>\n",
       "      <td>Ekwan</td>\n",
       "      <td>2003-03-17</td>\n",
       "      <td>EnCana Ekwan Pipeline Inc.</td>\n",
       "      <td>Gas</td>\n",
       "      <td>A0H8C3 - 13.0 EIA - Section 13.8 to 13.13</td>\n",
       "      <td>https://apps.cer-rec.gc.ca/REGDOCS/Item/LoadRe...</td>\n",
       "      <td>A0H8C3</td>\n",
       "      <td>269018</td>\n",
       "      <td>https://apps.cer-rec.gc.ca/REGDOCS/File/Downlo...</td>\n",
       "      <td>Large Projects (over 40 km)</td>\n",
       "      <td>Alberta, British Columbia</td>\n",
       "      <td>GH-1-2003</td>\n",
       "      <td>AXYS Environmental Consulting Ltd.</td>\n",
       "      <td>Operating</td>\n",
       "      <td>GC-108</td>\n",
       "      <td>https://apps.cer-rec.gc.ca/REGDOCS/Item/View/2...</td>\n",
       "      <td>https://apps.cer-rec.gc.ca/REGDOCS/Item/View/2...</td>\n",
       "      <td>Section 13.8: Fisheries and Aquatic Resources,...</td>\n",
       "      <td>4.0</td>\n",
       "    </tr>\n",
       "    <tr>\n",
       "      <th>4</th>\n",
       "      <td>Application to Construct and Operate Ekwan Pip...</td>\n",
       "      <td>Ekwan</td>\n",
       "      <td>2003-03-17</td>\n",
       "      <td>EnCana Ekwan Pipeline Inc.</td>\n",
       "      <td>Gas</td>\n",
       "      <td>A0H8C4 - 13.1 App 13A - Alignment Sheets</td>\n",
       "      <td>https://apps.cer-rec.gc.ca/REGDOCS/Item/LoadRe...</td>\n",
       "      <td>A0H8C4</td>\n",
       "      <td>269021</td>\n",
       "      <td>https://apps.cer-rec.gc.ca/REGDOCS/File/Downlo...</td>\n",
       "      <td>Large Projects (over 40 km)</td>\n",
       "      <td>Alberta, British Columbia</td>\n",
       "      <td>GH-1-2003</td>\n",
       "      <td>AXYS Environmental Consulting Ltd.</td>\n",
       "      <td>Operating</td>\n",
       "      <td>GC-108</td>\n",
       "      <td>https://apps.cer-rec.gc.ca/REGDOCS/Item/View/2...</td>\n",
       "      <td>https://apps.cer-rec.gc.ca/REGDOCS/Item/View/2...</td>\n",
       "      <td>Appendix 13A: Environmental Alignment Sheets</td>\n",
       "      <td>5.0</td>\n",
       "    </tr>\n",
       "  </tbody>\n",
       "</table>\n",
       "</div>"
      ],
      "text/plain": [
       "                                    Application Name Application Short Name  \\\n",
       "0  Application to Construct and Operate Ekwan Pip...                  Ekwan   \n",
       "1  Application to Construct and Operate Ekwan Pip...                  Ekwan   \n",
       "2  Application to Construct and Operate Ekwan Pip...                  Ekwan   \n",
       "3  Application to Construct and Operate Ekwan Pip...                  Ekwan   \n",
       "4  Application to Construct and Operate Ekwan Pip...                  Ekwan   \n",
       "\n",
       "  Application Filing Date                Company Name Commodity  \\\n",
       "0              2003-03-17  EnCana Ekwan Pipeline Inc.       Gas   \n",
       "1              2003-03-17  EnCana Ekwan Pipeline Inc.       Gas   \n",
       "2              2003-03-17  EnCana Ekwan Pipeline Inc.       Gas   \n",
       "3              2003-03-17  EnCana Ekwan Pipeline Inc.       Gas   \n",
       "4              2003-03-17  EnCana Ekwan Pipeline Inc.       Gas   \n",
       "\n",
       "                                           File Name  \\\n",
       "0          A0H8C0 - 13.0 EIA - Section 13.1 to 13.6    \n",
       "1   A0H8C1 - 13.0 EIA - Section 13.7 Wildlife Part 1   \n",
       "2  A0H8C2 - 13.0 EIA - Section 13.7 Wildlife Part 2    \n",
       "3          A0H8C3 - 13.0 EIA - Section 13.8 to 13.13   \n",
       "4           A0H8C4 - 13.1 App 13A - Alignment Sheets   \n",
       "\n",
       "                                      ESA Folder URL Document Number Data ID  \\\n",
       "0  https://apps.cer-rec.gc.ca/REGDOCS/Item/LoadRe...          A0H8C0  268706   \n",
       "1  https://apps.cer-rec.gc.ca/REGDOCS/Item/LoadRe...          A0H8C1  268709   \n",
       "2  https://apps.cer-rec.gc.ca/REGDOCS/Item/LoadRe...          A0H8C2  268712   \n",
       "3  https://apps.cer-rec.gc.ca/REGDOCS/Item/LoadRe...          A0H8C3  269018   \n",
       "4  https://apps.cer-rec.gc.ca/REGDOCS/Item/LoadRe...          A0H8C4  269021   \n",
       "\n",
       "                                    PDF Download URL  \\\n",
       "0  https://apps.cer-rec.gc.ca/REGDOCS/File/Downlo...   \n",
       "1  https://apps.cer-rec.gc.ca/REGDOCS/File/Downlo...   \n",
       "2  https://apps.cer-rec.gc.ca/REGDOCS/File/Downlo...   \n",
       "3  https://apps.cer-rec.gc.ca/REGDOCS/File/Downlo...   \n",
       "4  https://apps.cer-rec.gc.ca/REGDOCS/File/Downlo...   \n",
       "\n",
       "    Application Type (NEB Act)          Pipeline Location Hearing order  \\\n",
       "0  Large Projects (over 40 km)  Alberta, British Columbia     GH-1-2003   \n",
       "1  Large Projects (over 40 km)  Alberta, British Columbia     GH-1-2003   \n",
       "2  Large Projects (over 40 km)  Alberta, British Columbia     GH-1-2003   \n",
       "3  Large Projects (over 40 km)  Alberta, British Columbia     GH-1-2003   \n",
       "4  Large Projects (over 40 km)  Alberta, British Columbia     GH-1-2003   \n",
       "\n",
       "                      Consultant Name Pipeline Status  \\\n",
       "0  AXYS Environmental Consulting Ltd.       Operating   \n",
       "1  AXYS Environmental Consulting Ltd.       Operating   \n",
       "2  AXYS Environmental Consulting Ltd.       Operating   \n",
       "3  AXYS Environmental Consulting Ltd.       Operating   \n",
       "4  AXYS Environmental Consulting Ltd.       Operating   \n",
       "\n",
       "  Regulatory Instrument(s)                                    Application URL  \\\n",
       "0                   GC-108  https://apps.cer-rec.gc.ca/REGDOCS/Item/View/2...   \n",
       "1                   GC-108  https://apps.cer-rec.gc.ca/REGDOCS/Item/View/2...   \n",
       "2                   GC-108  https://apps.cer-rec.gc.ca/REGDOCS/Item/View/2...   \n",
       "3                   GC-108  https://apps.cer-rec.gc.ca/REGDOCS/Item/View/2...   \n",
       "4                   GC-108  https://apps.cer-rec.gc.ca/REGDOCS/Item/View/2...   \n",
       "\n",
       "                                        Decision URL  \\\n",
       "0  https://apps.cer-rec.gc.ca/REGDOCS/Item/View/2...   \n",
       "1  https://apps.cer-rec.gc.ca/REGDOCS/Item/View/2...   \n",
       "2  https://apps.cer-rec.gc.ca/REGDOCS/Item/View/2...   \n",
       "3  https://apps.cer-rec.gc.ca/REGDOCS/Item/View/2...   \n",
       "4  https://apps.cer-rec.gc.ca/REGDOCS/Item/View/2...   \n",
       "\n",
       "                                      ESA Section(s)  ESA Section(s) Index  \n",
       "0  Section 13.1: Introduction, Section 13.1: Proj...                   1.0  \n",
       "1        Section 13.7: Wildlife and Wildlife Habitat                   2.0  \n",
       "2        Section 13.7: Wildlife and Wildlife Habitat                   3.0  \n",
       "3  Section 13.8: Fisheries and Aquatic Resources,...                   4.0  \n",
       "4       Appendix 13A: Environmental Alignment Sheets                   5.0  "
      ]
     },
     "execution_count": 52,
     "metadata": {},
     "output_type": "execute_result"
    },
    {
     "data": {
      "text/plain": [
       "(1994, 20)"
      ]
     },
     "execution_count": 52,
     "metadata": {},
     "output_type": "execute_result"
    }
   ],
   "source": [
    "github_df = df_esa_with_gis_components_short_names_topics_page_count[['Application title short', 'short_name', \\\n",
    "    'Application filing date', 'Company Name','Commodity', 'file_name', 'esa_folder_link', 'DocumentID', 'DataID', \\\n",
    "     'esa_download_link','Section', 'Location', 'Hearing order', 'Consultant Name', 'Column1' , \\\n",
    "    'Regulatory Instruments Issued', 'Link to Application', 'Link to Decision', 'Component PDF Name', \n",
    "        'Component Index']]\n",
    "\n",
    "github_df = github_df.rename(columns = {'Application title short' : 'Application Name', 'short_name' : 'Application Short Name', \\\n",
    "                            'file_name' : 'File Name', 'esa_folder_link' : 'ESA Folder URL', \\\n",
    "                            'esa_download_link' : 'PDF Download URL', 'Section' : 'Application Type (NEB Act)', \\\n",
    "                            'Column1' : 'Pipeline Status', 'Regulatory Instruments Issued' : 'Regulatory Instrument(s)', \\\n",
    "                            'Link to Application' : 'Application URL', 'Link to Decision' : 'Decision URL', \\\n",
    "                            'Component PDF Name' : 'ESA Section(s)', 'download_links' : 'Component download URL', \\\n",
    "                            'Page Number' : 'PDF Page#', 'Application filing date' : 'Application Filing Date', \\\n",
    "                            'DocumentID' : 'Document Number', 'DataID' : 'Data ID', 'Location' : 'Pipeline Location', \\\n",
    "                            'Component Index' : 'ESA Section(s) Index'})\n",
    "\n",
    "github_df['Pipeline Location'] = github_df['Pipeline Location'].str.replace(', All', '')\n",
    "\n",
    "github_df.columns\n",
    "len(github_df.columns)\n",
    "github_df.shape\n",
    "github_df.head()\n",
    "github_df.shape\n",
    "# github_df.to_csv('F:/Environmental Baseline Data/Version 4 - Final/Indices/Github_ESA_Final_CERdb.csv', \\\n",
    "#                      encoding = 'utf_8_sig', index = False)\n",
    "\n",
    "github_df.to_csv('F:/Environmental Baseline Data/Version 4 - Final/Indices/Github_ESA_Final1.csv', \\\n",
    "                     encoding = 'utf_8_sig', index = False)"
   ]
  },
  {
   "cell_type": "markdown",
   "metadata": {},
   "source": [
    "### CID File"
   ]
  },
  {
   "cell_type": "code",
   "execution_count": 87,
   "metadata": {},
   "outputs": [
    {
     "data": {
      "text/plain": [
       "['F:/Environmental Baseline Data/Version 4 - Final/all_csvs/1059614_14_lattice-v_1.csv',\n",
       " 'F:/Environmental Baseline Data/Version 4 - Final/all_csvs/1059614_17_lattice-v_1.csv',\n",
       " 'F:/Environmental Baseline Data/Version 4 - Final/all_csvs/1059614_18_lattice-v_1.csv',\n",
       " 'F:/Environmental Baseline Data/Version 4 - Final/all_csvs/1059614_19_lattice-v_1.csv']"
      ]
     },
     "execution_count": 87,
     "metadata": {},
     "output_type": "execute_result"
    },
    {
     "data": {
      "text/plain": [
       "28891"
      ]
     },
     "execution_count": 87,
     "metadata": {},
     "output_type": "execute_result"
    }
   ],
   "source": [
    "df_table_titles['Page Number'] = df_table_titles['Page Number'].astype(str)\n",
    "df_table_titles['Table Number'] = df_table_titles['Table Number'].astype(str)\n",
    "df_table_titles['csv_file'] = df_table_titles['DataID'] + '_' + df_table_titles['Page Number'] + '_lattice-v_' + df_table_titles['Table Number'] + '.csv'\n",
    "\n",
    "tables_only = df_table_titles['csv_file'].tolist()\n",
    "\n",
    "csv_list_path = ['F:/Environmental Baseline Data/Version 4 - Final/all_csvs/' + x for x in tables_only] #May 4 edit\n",
    "csv_list_path[0:4]\n",
    "len(csv_list_path)\n",
    "# csvs_tables = [ x for x in csvs if \"nan\" not in x ]\n",
    "# csvs_tables =  [x.split('/', 5)[-1] for x in csvs_tables]\n",
    "# csv_list_path = ['F:/Environmental Baseline Data/Version 4 - Final/CSV_final/' + x for x in csvs_tables]\n",
    "# csv_list_path = [x.replace('.0', '') for x in csv_list_path]"
   ]
  },
  {
   "cell_type": "code",
   "execution_count": 88,
   "metadata": {},
   "outputs": [
    {
     "name": "stdout",
     "output_type": "stream",
     "text": [
      "Wall time: 3min 41s\n"
     ]
    },
    {
     "data": {
      "text/plain": [
       "28891"
      ]
     },
     "execution_count": 88,
     "metadata": {},
     "output_type": "execute_result"
    }
   ],
   "source": [
    "%%time \n",
    "#Wall time:  3min 41s\n",
    "#go through each CSV file and extract shape, and text; save to dict_pandas\n",
    "\n",
    "exceptions_files = []\n",
    "dict_pandas = []\n",
    "\n",
    "for x in csv_list_path:\n",
    "    try:\n",
    "#         print(x)\n",
    "        df = pd.read_csv(x)\n",
    "        shape = df.shape\n",
    "        first_row = str(list(df.iloc[:,0]))\n",
    "        columns = list(df.columns)       \n",
    "        onestring = str(df.values) #df = df.astype(str)\n",
    "        dictionary = {'csv_path' : x, 'shape' : (shape), 'columns_index' : columns, 'row_index' : first_row, 'text_df_all' : onestring }\n",
    "        dict_pandas.append(dictionary) \n",
    "    except:\n",
    "        exceptions_files.append(x)\n",
    "len(dict_pandas)"
   ]
  },
  {
   "cell_type": "code",
   "execution_count": 89,
   "metadata": {
    "scrolled": false
   },
   "outputs": [
    {
     "data": {
      "text/plain": [
       "Index(['csv_path', 'shape', 'columns_index', 'row_index', 'text_df_all'], dtype='object')"
      ]
     },
     "execution_count": 89,
     "metadata": {},
     "output_type": "execute_result"
    },
    {
     "data": {
      "text/plain": [
       "no cids          28146\n",
       "contains cids      745\n",
       "Name: contains_cids, dtype: int64"
      ]
     },
     "execution_count": 89,
     "metadata": {},
     "output_type": "execute_result"
    },
    {
     "name": "stderr",
     "output_type": "stream",
     "text": [
      "C:\\ProgramData\\Anaconda3\\lib\\site-packages\\ipykernel_launcher.py:11: SettingWithCopyWarning: \n",
      "A value is trying to be set on a copy of a slice from a DataFrame.\n",
      "Try using .loc[row_indexer,col_indexer] = value instead\n",
      "\n",
      "See the caveats in the documentation: https://pandas.pydata.org/pandas-docs/stable/user_guide/indexing.html#returning-a-view-versus-a-copy\n",
      "  # This is added back by InteractiveShellApp.init_path()\n",
      "C:\\ProgramData\\Anaconda3\\lib\\site-packages\\ipykernel_launcher.py:13: SettingWithCopyWarning: \n",
      "A value is trying to be set on a copy of a slice from a DataFrame.\n",
      "Try using .loc[row_indexer,col_indexer] = value instead\n",
      "\n",
      "See the caveats in the documentation: https://pandas.pydata.org/pandas-docs/stable/user_guide/indexing.html#returning-a-view-versus-a-copy\n",
      "  del sys.path[0]\n",
      "C:\\ProgramData\\Anaconda3\\lib\\site-packages\\ipykernel_launcher.py:14: SettingWithCopyWarning: \n",
      "A value is trying to be set on a copy of a slice from a DataFrame.\n",
      "Try using .loc[row_indexer,col_indexer] = value instead\n",
      "\n",
      "See the caveats in the documentation: https://pandas.pydata.org/pandas-docs/stable/user_guide/indexing.html#returning-a-view-versus-a-copy\n",
      "  \n",
      "C:\\ProgramData\\Anaconda3\\lib\\site-packages\\ipykernel_launcher.py:16: SettingWithCopyWarning: \n",
      "A value is trying to be set on a copy of a slice from a DataFrame.\n",
      "Try using .loc[row_indexer,col_indexer] = value instead\n",
      "\n",
      "See the caveats in the documentation: https://pandas.pydata.org/pandas-docs/stable/user_guide/indexing.html#returning-a-view-versus-a-copy\n",
      "  app.launch_new_instance()\n",
      "C:\\ProgramData\\Anaconda3\\lib\\site-packages\\ipykernel_launcher.py:17: SettingWithCopyWarning: \n",
      "A value is trying to be set on a copy of a slice from a DataFrame.\n",
      "Try using .loc[row_indexer,col_indexer] = value instead\n",
      "\n",
      "See the caveats in the documentation: https://pandas.pydata.org/pandas-docs/stable/user_guide/indexing.html#returning-a-view-versus-a-copy\n"
     ]
    }
   ],
   "source": [
    "# %%time \n",
    "#Wall time: 1.39 s\n",
    "#read dictionary\n",
    "df_csv_all = pd.DataFrame(dict_pandas)\n",
    "df_csv_all.columns\n",
    "df_csv_all['csv_name'] = df_csv_all['csv_path'].str.split('/').str[4]\n",
    "df_csv_all['contains_cids'] = np.where(df_csv_all['text_df_all'].str.contains(\"cid:\", case=False, na=False), 'contains cids', 'no cids')          \n",
    "df_csv_all['contains_cids'].value_counts()\n",
    "df_csv_all_cids_only = df_csv_all[df_csv_all['contains_cids'] == 'contains cids']\n",
    "\n",
    "df_csv_all_cids_only['DataID'] = df_csv_all_cids_only['csv_name'].str.extract('(^\\d+)')\n",
    "\n",
    "df_csv_all_cids_only['Table_number'] = df_csv_all_cids_only['csv_name'].str.extract('(_\\d+_)')\n",
    "df_csv_all_cids_only['Table_number'] = df_csv_all_cids_only['Table_number'].str.replace('_', '')\n",
    "\n",
    "df_csv_all_cids_only['Page_number'] = df_csv_all_cids_only['csv_name'].str.extract('(\\d+.csv)')\n",
    "df_csv_all_cids_only['Page_number'] = df_csv_all_cids_only['Page_number'].str.replace('.csv', '')\n",
    "\n",
    "# df_csv_all_cids_only.loc[:, 'DataID'] = df_csv_all_cids_only['csv_name'].str.extract('(^\\d+)')"
   ]
  },
  {
   "cell_type": "code",
   "execution_count": 90,
   "metadata": {},
   "outputs": [
    {
     "data": {
      "text/plain": [
       "(745, 14)"
      ]
     },
     "execution_count": 90,
     "metadata": {},
     "output_type": "execute_result"
    },
    {
     "data": {
      "text/html": [
       "<div>\n",
       "<style scoped>\n",
       "    .dataframe tbody tr th:only-of-type {\n",
       "        vertical-align: middle;\n",
       "    }\n",
       "\n",
       "    .dataframe tbody tr th {\n",
       "        vertical-align: top;\n",
       "    }\n",
       "\n",
       "    .dataframe thead th {\n",
       "        text-align: right;\n",
       "    }\n",
       "</style>\n",
       "<table border=\"1\" class=\"dataframe\">\n",
       "  <thead>\n",
       "    <tr style=\"text-align: right;\">\n",
       "      <th></th>\n",
       "      <th>csv_path</th>\n",
       "      <th>shape</th>\n",
       "      <th>columns_index</th>\n",
       "      <th>row_index</th>\n",
       "      <th>text_df_all</th>\n",
       "      <th>csv_name</th>\n",
       "      <th>contains_cids</th>\n",
       "      <th>DataID</th>\n",
       "      <th>Table_number</th>\n",
       "      <th>Page_number</th>\n",
       "      <th>Hearing order</th>\n",
       "      <th>short_name</th>\n",
       "      <th>zip_folder_url</th>\n",
       "      <th>Download folder name</th>\n",
       "    </tr>\n",
       "  </thead>\n",
       "  <tbody>\n",
       "    <tr>\n",
       "      <th>0</th>\n",
       "      <td>F:/Environmental Baseline Data/Version 4 - Fin...</td>\n",
       "      <td>(10, 2)</td>\n",
       "      <td>[PROPONENT INFORMATION, Unnamed: 1]</td>\n",
       "      <td>['NAME:STREET ADDRESS:CITY/TOWN:PROVINCE/TERRI...</td>\n",
       "      <td>[['NAME:STREET ADDRESS:CITY/TOWN:PROVINCE/TERR...</td>\n",
       "      <td>1059875_118_lattice-v_1.csv</td>\n",
       "      <td>contains cids</td>\n",
       "      <td>1059875</td>\n",
       "      <td>118</td>\n",
       "      <td>1</td>\n",
       "      <td>GH-001-2014</td>\n",
       "      <td>North Montney</td>\n",
       "      <td>http://www.cer-rec.gc.ca/esa-ees/nrthmntn.zip</td>\n",
       "      <td>nrthmntn</td>\n",
       "    </tr>\n",
       "    <tr>\n",
       "      <th>1</th>\n",
       "      <td>F:/Environmental Baseline Data/Version 4 - Fin...</td>\n",
       "      <td>(10, 2)</td>\n",
       "      <td>[PROPONENT INFORMATION, Unnamed: 1]</td>\n",
       "      <td>['NAME:STREET ADDRESS:CITY/TOWN:PROVINCE/TERRI...</td>\n",
       "      <td>[['NAME:STREET ADDRESS:CITY/TOWN:PROVINCE/TERR...</td>\n",
       "      <td>1059875_122_lattice-v_1.csv</td>\n",
       "      <td>contains cids</td>\n",
       "      <td>1059875</td>\n",
       "      <td>122</td>\n",
       "      <td>1</td>\n",
       "      <td>GH-001-2014</td>\n",
       "      <td>North Montney</td>\n",
       "      <td>http://www.cer-rec.gc.ca/esa-ees/nrthmntn.zip</td>\n",
       "      <td>nrthmntn</td>\n",
       "    </tr>\n",
       "    <tr>\n",
       "      <th>2</th>\n",
       "      <td>F:/Environmental Baseline Data/Version 4 - Fin...</td>\n",
       "      <td>(10, 2)</td>\n",
       "      <td>[PROPONENT INFORMATION, Unnamed: 1]</td>\n",
       "      <td>['NAME:STREET ADDRESS:CITY/TOWN:PROVINCE/TERRI...</td>\n",
       "      <td>[['NAME:STREET ADDRESS:CITY/TOWN:PROVINCE/TERR...</td>\n",
       "      <td>1059875_127_lattice-v_1.csv</td>\n",
       "      <td>contains cids</td>\n",
       "      <td>1059875</td>\n",
       "      <td>127</td>\n",
       "      <td>1</td>\n",
       "      <td>GH-001-2014</td>\n",
       "      <td>North Montney</td>\n",
       "      <td>http://www.cer-rec.gc.ca/esa-ees/nrthmntn.zip</td>\n",
       "      <td>nrthmntn</td>\n",
       "    </tr>\n",
       "    <tr>\n",
       "      <th>3</th>\n",
       "      <td>F:/Environmental Baseline Data/Version 4 - Fin...</td>\n",
       "      <td>(10, 2)</td>\n",
       "      <td>[PROPONENT INFORMATION, Unnamed: 1]</td>\n",
       "      <td>['NAME:STREET ADDRESS:CITY/TOWN:PROVINCE/TERRI...</td>\n",
       "      <td>[['NAME:STREET ADDRESS:CITY/TOWN:PROVINCE/TERR...</td>\n",
       "      <td>1059875_131_lattice-v_1.csv</td>\n",
       "      <td>contains cids</td>\n",
       "      <td>1059875</td>\n",
       "      <td>131</td>\n",
       "      <td>1</td>\n",
       "      <td>GH-001-2014</td>\n",
       "      <td>North Montney</td>\n",
       "      <td>http://www.cer-rec.gc.ca/esa-ees/nrthmntn.zip</td>\n",
       "      <td>nrthmntn</td>\n",
       "    </tr>\n",
       "    <tr>\n",
       "      <th>4</th>\n",
       "      <td>F:/Environmental Baseline Data/Version 4 - Fin...</td>\n",
       "      <td>(12, 10)</td>\n",
       "      <td>[Common Name, Scientific Name, Conservation St...</td>\n",
       "      <td>['Common Name', 'SONGBIRDS, CORVIDS, GROUSE AN...</td>\n",
       "      <td>[['Common Name' 'Scientific Name' 'Alberta Pro...</td>\n",
       "      <td>2392725_68_lattice-v_1.csv</td>\n",
       "      <td>contains cids</td>\n",
       "      <td>2392725</td>\n",
       "      <td>68</td>\n",
       "      <td>1</td>\n",
       "      <td>OH-001-2014</td>\n",
       "      <td>Trans Mountain Expansion</td>\n",
       "      <td>http://www.cer-rec.gc.ca/esa-ees/tmx.zip</td>\n",
       "      <td>tmx</td>\n",
       "    </tr>\n",
       "  </tbody>\n",
       "</table>\n",
       "</div>"
      ],
      "text/plain": [
       "                                            csv_path     shape  \\\n",
       "0  F:/Environmental Baseline Data/Version 4 - Fin...   (10, 2)   \n",
       "1  F:/Environmental Baseline Data/Version 4 - Fin...   (10, 2)   \n",
       "2  F:/Environmental Baseline Data/Version 4 - Fin...   (10, 2)   \n",
       "3  F:/Environmental Baseline Data/Version 4 - Fin...   (10, 2)   \n",
       "4  F:/Environmental Baseline Data/Version 4 - Fin...  (12, 10)   \n",
       "\n",
       "                                       columns_index  \\\n",
       "0                [PROPONENT INFORMATION, Unnamed: 1]   \n",
       "1                [PROPONENT INFORMATION, Unnamed: 1]   \n",
       "2                [PROPONENT INFORMATION, Unnamed: 1]   \n",
       "3                [PROPONENT INFORMATION, Unnamed: 1]   \n",
       "4  [Common Name, Scientific Name, Conservation St...   \n",
       "\n",
       "                                           row_index  \\\n",
       "0  ['NAME:STREET ADDRESS:CITY/TOWN:PROVINCE/TERRI...   \n",
       "1  ['NAME:STREET ADDRESS:CITY/TOWN:PROVINCE/TERRI...   \n",
       "2  ['NAME:STREET ADDRESS:CITY/TOWN:PROVINCE/TERRI...   \n",
       "3  ['NAME:STREET ADDRESS:CITY/TOWN:PROVINCE/TERRI...   \n",
       "4  ['Common Name', 'SONGBIRDS, CORVIDS, GROUSE AN...   \n",
       "\n",
       "                                         text_df_all  \\\n",
       "0  [['NAME:STREET ADDRESS:CITY/TOWN:PROVINCE/TERR...   \n",
       "1  [['NAME:STREET ADDRESS:CITY/TOWN:PROVINCE/TERR...   \n",
       "2  [['NAME:STREET ADDRESS:CITY/TOWN:PROVINCE/TERR...   \n",
       "3  [['NAME:STREET ADDRESS:CITY/TOWN:PROVINCE/TERR...   \n",
       "4  [['Common Name' 'Scientific Name' 'Alberta Pro...   \n",
       "\n",
       "                      csv_name  contains_cids   DataID Table_number  \\\n",
       "0  1059875_118_lattice-v_1.csv  contains cids  1059875          118   \n",
       "1  1059875_122_lattice-v_1.csv  contains cids  1059875          122   \n",
       "2  1059875_127_lattice-v_1.csv  contains cids  1059875          127   \n",
       "3  1059875_131_lattice-v_1.csv  contains cids  1059875          131   \n",
       "4   2392725_68_lattice-v_1.csv  contains cids  2392725           68   \n",
       "\n",
       "  Page_number Hearing order                short_name  \\\n",
       "0           1   GH-001-2014             North Montney   \n",
       "1           1   GH-001-2014             North Montney   \n",
       "2           1   GH-001-2014             North Montney   \n",
       "3           1   GH-001-2014             North Montney   \n",
       "4           1   OH-001-2014  Trans Mountain Expansion   \n",
       "\n",
       "                                  zip_folder_url Download folder name  \n",
       "0  http://www.cer-rec.gc.ca/esa-ees/nrthmntn.zip             nrthmntn  \n",
       "1  http://www.cer-rec.gc.ca/esa-ees/nrthmntn.zip             nrthmntn  \n",
       "2  http://www.cer-rec.gc.ca/esa-ees/nrthmntn.zip             nrthmntn  \n",
       "3  http://www.cer-rec.gc.ca/esa-ees/nrthmntn.zip             nrthmntn  \n",
       "4       http://www.cer-rec.gc.ca/esa-ees/tmx.zip                  tmx  "
      ]
     },
     "execution_count": 90,
     "metadata": {},
     "output_type": "execute_result"
    }
   ],
   "source": [
    "for_cids = tables_figures_regdocs[['DataID', 'Hearing order', 'short_name', 'zip_folder_url', 'Download folder name']]\n",
    "for_cids = for_cids.drop_duplicates()\n",
    "\n",
    "df_csv_all_cids_only_all = df_csv_all_cids_only.merge(for_cids, on = 'DataID')\n",
    "\n",
    "df_csv_all_cids_only_all.to_excel('F:/Environmental Baseline Data/Version 4 - Final/Indices/Index3_full_cids_only_May4.xlsx', encoding = 'utf_8_sig')\n",
    "df_csv_all_cids_only_all.to_csv('F:/Environmental Baseline Data/Version 4 - Final/Indices/Index3_full_cids_only_May4.csv', encoding = 'utf_8_sig')\n",
    "\n",
    "df_csv_all_cids_only_all.shape\n",
    "df_csv_all_cids_only_all.head()\n",
    "\n",
    "df_csv_all_cids_only_all.to_excel('test.xlsx')"
   ]
  },
  {
   "cell_type": "code",
   "execution_count": 91,
   "metadata": {
    "scrolled": false
   },
   "outputs": [
    {
     "data": {
      "text/plain": [
       "(745, 14)"
      ]
     },
     "execution_count": 91,
     "metadata": {},
     "output_type": "execute_result"
    },
    {
     "data": {
      "text/plain": [
       "Eastern Mainline            414\n",
       "Brunswick                   141\n",
       "Mackenzie Gas               103\n",
       "Alberta Clipper              31\n",
       "Trans Mountain Expansion     29\n",
       "Northwest Mainline            6\n",
       "Keystone                      5\n",
       "Line 4                        4\n",
       "North Montney                 4\n",
       "Edmonton to Hardisty          3\n",
       "Komie North                   2\n",
       "Keystone XL                   1\n",
       "South Peace                   1\n",
       "Horn River                    1\n",
       "Name: short_name, dtype: int64"
      ]
     },
     "execution_count": 91,
     "metadata": {},
     "output_type": "execute_result"
    }
   ],
   "source": [
    "df_csv_all_cids_only_all.shape\n",
    "# df_csv_all_cids_only_all.dtypes\n",
    "# df_csv_all_cids_only_all.head()\n",
    "# df_csv_all_cids_only_all.drop_duplicates()\n",
    "# df_csv_all_cids_only_all.shape\n",
    "\n",
    "df_csv_all_cids_only_all['short_name'].value_counts()"
   ]
  },
  {
   "cell_type": "code",
   "execution_count": null,
   "metadata": {},
   "outputs": [],
   "source": []
  },
  {
   "cell_type": "code",
   "execution_count": null,
   "metadata": {},
   "outputs": [],
   "source": []
  },
  {
   "cell_type": "code",
   "execution_count": null,
   "metadata": {},
   "outputs": [],
   "source": []
  },
  {
   "cell_type": "code",
   "execution_count": null,
   "metadata": {},
   "outputs": [],
   "source": []
  }
 ],
 "metadata": {
  "kernelspec": {
   "display_name": "Python 3",
   "language": "python",
   "name": "python3"
  },
  "language_info": {
   "codemirror_mode": {
    "name": "ipython",
    "version": 3
   },
   "file_extension": ".py",
   "mimetype": "text/x-python",
   "name": "python",
   "nbconvert_exporter": "python",
   "pygments_lexer": "ipython3",
   "version": "3.7.0"
  }
 },
 "nbformat": 4,
 "nbformat_minor": 2
}
